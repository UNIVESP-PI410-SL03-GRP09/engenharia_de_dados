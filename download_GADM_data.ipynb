{
 "cells": [
  {
   "cell_type": "code",
   "execution_count": 1,
   "metadata": {},
   "outputs": [],
   "source": [
    "import geopandas as gpd"
   ]
  },
  {
   "cell_type": "code",
   "execution_count": 2,
   "metadata": {},
   "outputs": [
    {
     "name": "stderr",
     "output_type": "stream",
     "text": [
      "'wget' nÆo ‚ reconhecido como um comando interno\n",
      "ou externo, um programa oper vel ou um arquivo em lotes.\n"
     ]
    }
   ],
   "source": [
    "!wget https://geodata.ucdavis.edu/gadm/gadm4.1/gpkg/gadm41_BRA.gpkg"
   ]
  },
  {
   "cell_type": "code",
   "execution_count": 15,
   "metadata": {},
   "outputs": [
    {
     "name": "stdout",
     "output_type": "stream",
     "text": [
      "--2023-05-07 20:09:07--  https://geodata.ucdavis.edu/gadm/gadm4.1/json/gadm41_BRA_2.json.zip\n",
      "Resolving geodata.ucdavis.edu (geodata.ucdavis.edu)... 128.120.146.30\n",
      "Connecting to geodata.ucdavis.edu (geodata.ucdavis.edu)|128.120.146.30|:443... connected.\n",
      "HTTP request sent, awaiting response... 200 OK\n",
      "Length: 6435849 (6.1M) [application/zip]\n",
      "Saving to: ‘gadm41_BRA_2.json.zip.1’\n",
      "\n",
      "gadm41_BRA_2.json.z 100%[===================>]   6.14M   508KB/s    in 17s     \n",
      "\n",
      "2023-05-07 20:09:25 (362 KB/s) - ‘gadm41_BRA_2.json.zip.1’ saved [6435849/6435849]\n",
      "\n"
     ]
    }
   ],
   "source": [
    "!wget https://geodata.ucdavis.edu/gadm/gadm4.1/json/gadm41_BRA_2.json.zip"
   ]
  },
  {
   "cell_type": "code",
   "execution_count": 2,
   "metadata": {},
   "outputs": [],
   "source": [
    "df = gpd.read_file(\"gadm41_BRA_2.json.zip\")"
   ]
  },
  {
   "cell_type": "code",
   "execution_count": 26,
   "metadata": {},
   "outputs": [],
   "source": [
    "!mkdir output"
   ]
  },
  {
   "cell_type": "code",
   "execution_count": 6,
   "metadata": {},
   "outputs": [
    {
     "name": "stdout",
     "output_type": "stream",
     "text": [
      "--2023-05-07 20:07:45--  https://geodata.ucdavis.edu/gadm/gadm4.1/json/gadm41_BRA_1.json.zip\n",
      "Resolving geodata.ucdavis.edu (geodata.ucdavis.edu)... 128.120.146.30\n",
      "Connecting to geodata.ucdavis.edu (geodata.ucdavis.edu)|128.120.146.30|:443... connected.\n",
      "HTTP request sent, awaiting response... 200 OK\n",
      "Length: 529859 (517K) [application/zip]\n",
      "Saving to: ‘gadm41_BRA_1.json.zip’\n",
      "\n",
      "gadm41_BRA_1.json.z 100%[===================>] 517.44K   358KB/s    in 1.4s    \n",
      "\n",
      "2023-05-07 20:07:47 (358 KB/s) - ‘gadm41_BRA_1.json.zip’ saved [529859/529859]\n",
      "\n"
     ]
    }
   ],
   "source": [
    "!wget https://geodata.ucdavis.edu/gadm/gadm4.1/json/gadm41_BRA_1.json.zip"
   ]
  },
  {
   "cell_type": "code",
   "execution_count": 7,
   "metadata": {},
   "outputs": [],
   "source": [
    "df = gpd.read_file(\"gadm41_BRA_1.json.zip\")"
   ]
  },
  {
   "cell_type": "code",
   "execution_count": 24,
   "metadata": {},
   "outputs": [
    {
     "data": {
      "text/plain": [
       "array(['AC', 'AL', 'AP', 'AM', 'BA', 'CE', 'DF', 'ES', 'GO', 'MA', 'MT',\n",
       "       'MS', 'MG', 'PA', 'PB', 'PR', 'PE', 'PI', 'RJ', 'RN', 'RS', 'RO',\n",
       "       'RR', 'SC', 'SP', 'SE', 'TO'], dtype=object)"
      ]
     },
     "execution_count": 24,
     "metadata": {},
     "output_type": "execute_result"
    }
   ],
   "source": [
    "df.HASC_1.str.slice(3).values"
   ]
  },
  {
   "cell_type": "code",
   "execution_count": null,
   "metadata": {},
   "outputs": [],
   "source": []
  }
 ],
 "metadata": {
  "kernelspec": {
   "display_name": "Python 3 (ipykernel)",
   "language": "python",
   "name": "python3"
  },
  "language_info": {
   "codemirror_mode": {
    "name": "ipython",
    "version": 3
   },
   "file_extension": ".py",
   "mimetype": "text/x-python",
   "name": "python",
   "nbconvert_exporter": "python",
   "pygments_lexer": "ipython3",
   "version": "3.9.7"
  }
 },
 "nbformat": 4,
 "nbformat_minor": 2
}
