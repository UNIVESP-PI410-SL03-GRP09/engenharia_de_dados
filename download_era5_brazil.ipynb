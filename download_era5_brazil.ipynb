{
 "cells": [
  {
   "cell_type": "code",
   "execution_count": 2,
   "id": "f0576c58",
   "metadata": {},
   "outputs": [],
   "source": [
    "# pip install cython jupyter cdsapi netcdf4 xarray rioxarray awscli geopandas cartopy h5netcdf pyarrow"
   ]
  },
  {
   "cell_type": "code",
   "execution_count": 2,
   "id": "656987d6",
   "metadata": {},
   "outputs": [],
   "source": [
    "import cdsapi\n",
    "import os\n",
    "api_key = \"\""
   ]
  },
  {
   "cell_type": "code",
   "execution_count": 3,
   "id": "d6acda2e",
   "metadata": {},
   "outputs": [
    {
     "name": "stdout",
     "output_type": "stream",
     "text": [
      "2005 01\n",
      "2005 02\n",
      "2005 03\n",
      "2005 04\n",
      "2005 05\n",
      "2005 06\n",
      "2005 07\n",
      "2005 08\n",
      "2005 09\n",
      "2005 10\n",
      "2005 11\n",
      "2005 12\n",
      "2006 01\n",
      "2006 02\n",
      "2006 03\n",
      "2006 04\n",
      "2006 05\n",
      "2006 06\n",
      "2006 07\n",
      "2006 08\n",
      "2006 09\n",
      "2006 10\n",
      "2006 11\n",
      "2006 12\n",
      "2007 01\n",
      "2007 02\n",
      "2007 03\n",
      "2007 04\n",
      "2007 05\n",
      "2007 06\n"
     ]
    },
    {
     "name": "stderr",
     "output_type": "stream",
     "text": [
      "2023-05-27 22:10:30,043 INFO Welcome to the CDS\n",
      "2023-05-27 22:10:30,044 INFO Sending request to https://cds.climate.copernicus.eu/api/v2/resources/reanalysis-era5-single-levels\n",
      "2023-05-27 22:10:30,573 INFO Request is completed\n",
      "2023-05-27 22:10:30,574 INFO Downloading https://download-0010-clone.copernicus-climate.eu/cache-compute-0010/cache/data3/adaptor.mars.internal-1685235193.377798-27136-14-533e4e5e-0e87-45fd-8218-03761681cfbf.nc to ./output/era5/era5_2007_06.nc (70.3M)\n",
      "2023-05-27 22:15:13,426 INFO Download rate 254.6K/s                          \n"
     ]
    },
    {
     "name": "stdout",
     "output_type": "stream",
     "text": [
      "era5_2007_06.nc done\n",
      "2007 07\n"
     ]
    },
    {
     "name": "stderr",
     "output_type": "stream",
     "text": [
      "2023-05-27 22:15:14,734 INFO Welcome to the CDS\n",
      "2023-05-27 22:15:14,735 INFO Sending request to https://cds.climate.copernicus.eu/api/v2/resources/reanalysis-era5-single-levels\n",
      "2023-05-27 22:15:15,032 INFO Downloading https://download-0007-clone.copernicus-climate.eu/cache-compute-0007/cache/data4/adaptor.mars.internal-1685235696.5913863-12348-2-1a66c33a-e370-4b59-b4a1-e171eff9ac5c.nc to ./output/era5/era5_2007_07.nc (72.7M)\n",
      "2023-05-27 22:20:25,254 INFO Download rate 239.9K/s                          \n"
     ]
    },
    {
     "name": "stdout",
     "output_type": "stream",
     "text": [
      "era5_2007_07.nc done\n",
      "2007 08\n"
     ]
    },
    {
     "name": "stderr",
     "output_type": "stream",
     "text": [
      "2023-05-27 22:20:26,489 INFO Welcome to the CDS\n",
      "2023-05-27 22:20:26,489 INFO Sending request to https://cds.climate.copernicus.eu/api/v2/resources/reanalysis-era5-single-levels\n",
      "2023-05-27 22:20:26,794 INFO Request is queued\n",
      "2023-05-27 22:20:28,052 INFO Request is running\n",
      "2023-05-27 22:23:20,867 INFO Request is completed\n",
      "2023-05-27 22:23:20,868 INFO Downloading https://download-0007-clone.copernicus-climate.eu/cache-compute-0007/cache/data2/adaptor.mars.internal-1685236944.2879562-21185-5-562c757e-77f7-4836-a6be-883b74737589.nc to ./output/era5/era5_2007_08.nc (72.7M)\n",
      "2023-05-27 22:27:31,807 INFO Download rate 296.5K/s                          \n"
     ]
    },
    {
     "name": "stdout",
     "output_type": "stream",
     "text": [
      "era5_2007_08.nc done\n",
      "2007 09\n"
     ]
    },
    {
     "name": "stderr",
     "output_type": "stream",
     "text": [
      "2023-05-27 22:27:33,043 INFO Welcome to the CDS\n",
      "2023-05-27 22:27:33,043 INFO Sending request to https://cds.climate.copernicus.eu/api/v2/resources/reanalysis-era5-single-levels\n",
      "2023-05-27 22:27:33,305 INFO Request is queued\n",
      "2023-05-27 22:27:34,555 INFO Request is running\n",
      "2023-05-27 22:29:29,430 INFO Request is completed\n",
      "2023-05-27 22:29:29,431 INFO Downloading https://download-0004-clone.copernicus-climate.eu/cache-compute-0004/cache/data6/adaptor.mars.internal-1685237360.7467978-16069-5-c7c3daba-0a04-4d98-9d38-1cb0393c8f95.nc to ./output/era5/era5_2007_09.nc (70.3M)\n",
      "2023-05-27 22:34:33,885 INFO Download rate 236.5K/s                          \n"
     ]
    },
    {
     "name": "stdout",
     "output_type": "stream",
     "text": [
      "era5_2007_09.nc done\n",
      "2007 10\n"
     ]
    },
    {
     "name": "stderr",
     "output_type": "stream",
     "text": [
      "2023-05-27 22:34:35,130 INFO Welcome to the CDS\n",
      "2023-05-27 22:34:35,131 INFO Sending request to https://cds.climate.copernicus.eu/api/v2/resources/reanalysis-era5-single-levels\n",
      "2023-05-27 22:34:35,410 INFO Request is queued\n",
      "2023-05-27 22:34:36,658 INFO Request is running\n",
      "2023-05-27 22:37:29,427 INFO Request is completed\n",
      "2023-05-27 22:37:29,427 INFO Downloading https://download-0001-clone.copernicus-climate.eu/cache-compute-0001/cache/data8/adaptor.mars.internal-1685237788.729136-23715-1-870fbe45-fda2-47a3-bc12-867dc47d1898.nc to ./output/era5/era5_2007_10.nc (72.7M)\n",
      "2023-05-27 22:42:47,600 INFO Download rate 233.9K/s                          \n"
     ]
    },
    {
     "name": "stdout",
     "output_type": "stream",
     "text": [
      "era5_2007_10.nc done\n",
      "2007 11\n"
     ]
    },
    {
     "name": "stderr",
     "output_type": "stream",
     "text": [
      "2023-05-27 22:42:49,017 INFO Welcome to the CDS\n",
      "2023-05-27 22:42:49,017 INFO Sending request to https://cds.climate.copernicus.eu/api/v2/resources/reanalysis-era5-single-levels\n",
      "2023-05-27 22:42:49,304 INFO Request is queued\n",
      "2023-05-27 22:42:50,602 INFO Request is running\n",
      "2023-05-27 22:45:43,361 INFO Request is completed\n",
      "2023-05-27 22:45:43,362 INFO Downloading https://download-0012-clone.copernicus-climate.eu/cache-compute-0012/cache/data9/adaptor.mars.internal-1685238298.2516644-7506-13-6c554566-87a5-4e87-b4d8-ea7e92683810.nc to ./output/era5/era5_2007_11.nc (70.3M)\n",
      "2023-05-27 22:49:50,738 INFO Download rate 291.1K/s                          \n"
     ]
    },
    {
     "name": "stdout",
     "output_type": "stream",
     "text": [
      "era5_2007_11.nc done\n",
      "2007 12\n"
     ]
    },
    {
     "name": "stderr",
     "output_type": "stream",
     "text": [
      "2023-05-27 22:49:51,968 INFO Welcome to the CDS\n",
      "2023-05-27 22:49:51,968 INFO Sending request to https://cds.climate.copernicus.eu/api/v2/resources/reanalysis-era5-single-levels\n",
      "2023-05-27 22:49:52,253 INFO Request is queued\n",
      "2023-05-27 22:49:53,510 INFO Request is running\n",
      "2023-05-27 22:52:46,222 INFO Request is completed\n",
      "2023-05-27 22:52:46,223 INFO Downloading https://download-0015-clone.copernicus-climate.eu/cache-compute-0015/cache/data5/adaptor.mars.internal-1685238703.3188593-10101-8-9d7236c0-fa17-43d2-a38c-909b70ed4bce.nc to ./output/era5/era5_2007_12.nc (72.7M)\n",
      "2023-05-27 22:57:22,406 INFO Download rate 269.4K/s                          \n"
     ]
    },
    {
     "name": "stdout",
     "output_type": "stream",
     "text": [
      "era5_2007_12.nc done\n",
      "2008 01\n"
     ]
    },
    {
     "name": "stderr",
     "output_type": "stream",
     "text": [
      "2023-05-27 22:57:23,690 INFO Welcome to the CDS\n",
      "2023-05-27 22:57:23,690 INFO Sending request to https://cds.climate.copernicus.eu/api/v2/resources/reanalysis-era5-single-levels\n",
      "2023-05-27 22:57:23,970 INFO Request is queued\n",
      "2023-05-27 22:57:25,219 INFO Request is running\n",
      "2023-05-27 22:59:20,122 INFO Request is completed\n",
      "2023-05-27 22:59:20,122 INFO Downloading https://download-0001-clone.copernicus-climate.eu/cache-compute-0001/cache/data4/adaptor.mars.internal-1685239152.2280276-29590-20-414b6ecc-27bd-428e-befa-8820b4614d64.nc to ./output/era5/era5_2008_01.nc (72.7M)\n",
      "2023-05-27 23:04:03,933 INFO Download rate 262.2K/s                          \n"
     ]
    },
    {
     "name": "stdout",
     "output_type": "stream",
     "text": [
      "era5_2008_01.nc done\n",
      "2008 02\n"
     ]
    },
    {
     "name": "stderr",
     "output_type": "stream",
     "text": [
      "2023-05-27 23:04:05,232 INFO Welcome to the CDS\n",
      "2023-05-27 23:04:05,232 INFO Sending request to https://cds.climate.copernicus.eu/api/v2/resources/reanalysis-era5-single-levels\n",
      "2023-05-27 23:04:05,503 INFO Request is queued\n",
      "2023-05-27 23:04:06,828 INFO Request is running\n",
      "2023-05-27 23:06:01,434 INFO Request is completed\n",
      "2023-05-27 23:06:01,434 INFO Downloading https://download-0017.copernicus-climate.eu/cache-compute-0017/cache/data7/adaptor.mars.internal-1685239551.0672958-17288-15-31a81957-283c-4c0d-8cd0-006204e0d373.nc to ./output/era5/era5_2008_02.nc (68M)\n",
      "2023-05-27 23:10:08,841 INFO Download rate 281.4K/s                          \n"
     ]
    },
    {
     "name": "stdout",
     "output_type": "stream",
     "text": [
      "era5_2008_02.nc done\n",
      "2008 03\n"
     ]
    },
    {
     "name": "stderr",
     "output_type": "stream",
     "text": [
      "2023-05-27 23:10:10,079 INFO Welcome to the CDS\n",
      "2023-05-27 23:10:10,079 INFO Sending request to https://cds.climate.copernicus.eu/api/v2/resources/reanalysis-era5-single-levels\n",
      "2023-05-27 23:10:10,354 INFO Request is queued\n",
      "2023-05-27 23:10:11,731 INFO Request is running\n",
      "2023-05-27 23:12:06,571 INFO Request is completed\n",
      "2023-05-27 23:12:06,572 INFO Downloading https://download-0000-clone.copernicus-climate.eu/cache-compute-0000/cache/data6/adaptor.mars.internal-1685239917.470522-12164-10-dc094ba2-ca89-4c7f-bedf-79dee766f5ad.nc to ./output/era5/era5_2008_03.nc (72.7M)\n",
      "2023-05-27 23:16:21,455 INFO Download rate 292K/s                            \n"
     ]
    },
    {
     "name": "stdout",
     "output_type": "stream",
     "text": [
      "era5_2008_03.nc done\n",
      "2008 04\n"
     ]
    },
    {
     "name": "stderr",
     "output_type": "stream",
     "text": [
      "2023-05-27 23:16:22,951 INFO Welcome to the CDS\n",
      "2023-05-27 23:16:22,952 INFO Sending request to https://cds.climate.copernicus.eu/api/v2/resources/reanalysis-era5-single-levels\n",
      "2023-05-27 23:16:23,242 INFO Request is queued\n",
      "2023-05-27 23:16:24,550 INFO Request is running\n",
      "2023-05-27 23:18:19,456 INFO Request is completed\n",
      "2023-05-27 23:18:19,456 INFO Downloading https://download-0008-clone.copernicus-climate.eu/cache-compute-0008/cache/data4/adaptor.mars.internal-1685240289.3871977-10454-17-4f1fb6b0-9681-45ca-aa5f-e6b496c29a9f.nc to ./output/era5/era5_2008_04.nc (70.3M)\n",
      "2023-05-27 23:22:29,352 INFO Download rate 288.2K/s                          \n"
     ]
    },
    {
     "name": "stdout",
     "output_type": "stream",
     "text": [
      "era5_2008_04.nc done\n",
      "2008 05\n"
     ]
    },
    {
     "name": "stderr",
     "output_type": "stream",
     "text": [
      "2023-05-27 23:22:30,586 INFO Welcome to the CDS\n",
      "2023-05-27 23:22:30,586 INFO Sending request to https://cds.climate.copernicus.eu/api/v2/resources/reanalysis-era5-single-levels\n",
      "2023-05-27 23:22:30,846 INFO Request is queued\n",
      "2023-05-27 23:22:32,104 INFO Request is running\n",
      "2023-05-27 23:25:25,605 INFO Request is completed\n",
      "2023-05-27 23:25:25,606 INFO Downloading https://download-0009-clone.copernicus-climate.eu/cache-compute-0009/cache/data9/adaptor.mars.internal-1685240668.3418977-20685-11-d8cc1315-c316-4c96-b3db-e9926142f080.nc to ./output/era5/era5_2008_05.nc (72.7M)\n",
      "2023-05-27 23:30:57,815 INFO Download rate 224K/s                            \n"
     ]
    },
    {
     "name": "stdout",
     "output_type": "stream",
     "text": [
      "era5_2008_05.nc done\n",
      "2008 06\n"
     ]
    },
    {
     "name": "stderr",
     "output_type": "stream",
     "text": [
      "2023-05-27 23:30:59,729 INFO Welcome to the CDS\n",
      "2023-05-27 23:30:59,730 INFO Sending request to https://cds.climate.copernicus.eu/api/v2/resources/reanalysis-era5-single-levels\n",
      "2023-05-27 23:30:59,997 INFO Request is queued\n",
      "2023-05-27 23:31:01,269 INFO Request is running\n",
      "2023-05-27 23:32:56,102 INFO Request is completed\n",
      "2023-05-27 23:32:56,102 INFO Downloading https://download-0007-clone.copernicus-climate.eu/cache-compute-0007/cache/data3/adaptor.mars.internal-1685241163.7605448-27386-9-32e121ef-bf7c-4168-a8e5-a4ea0a0f3558.nc to ./output/era5/era5_2008_06.nc (70.3M)\n",
      "2023-05-27 23:37:13,982 INFO Download rate 279.3K/s                          \n"
     ]
    },
    {
     "name": "stdout",
     "output_type": "stream",
     "text": [
      "era5_2008_06.nc done\n",
      "2008 07\n"
     ]
    },
    {
     "name": "stderr",
     "output_type": "stream",
     "text": [
      "2023-05-27 23:37:15,308 INFO Welcome to the CDS\n",
      "2023-05-27 23:37:15,308 INFO Sending request to https://cds.climate.copernicus.eu/api/v2/resources/reanalysis-era5-single-levels\n",
      "2023-05-27 23:37:15,582 INFO Request is queued\n",
      "2023-05-27 23:37:16,906 INFO Request is running\n",
      "2023-05-27 23:40:09,666 INFO Request is completed\n",
      "2023-05-27 23:40:09,667 INFO Downloading https://download-0001-clone.copernicus-climate.eu/cache-compute-0001/cache/data8/adaptor.mars.internal-1685241555.114599-26327-1-b76b78f6-afaa-4b83-9da4-aad4bdb84e97.nc to ./output/era5/era5_2008_07.nc (72.7M)\n",
      "2023-05-27 23:44:12,628 INFO Download rate 306.3K/s                          \n"
     ]
    },
    {
     "name": "stdout",
     "output_type": "stream",
     "text": [
      "era5_2008_07.nc done\n",
      "2008 08\n"
     ]
    },
    {
     "name": "stderr",
     "output_type": "stream",
     "text": [
      "2023-05-27 23:44:14,030 INFO Welcome to the CDS\n",
      "2023-05-27 23:44:14,031 INFO Sending request to https://cds.climate.copernicus.eu/api/v2/resources/reanalysis-era5-single-levels\n",
      "2023-05-27 23:44:14,333 INFO Request is queued\n",
      "2023-05-27 23:44:15,641 INFO Request is running\n",
      "2023-05-27 23:46:11,090 INFO Request is completed\n",
      "2023-05-27 23:46:11,091 INFO Downloading https://download-0012-clone.copernicus-climate.eu/cache-compute-0012/cache/data2/adaptor.mars.internal-1685241962.608322-11011-2-82e5227a-b799-4769-a0e2-ceef657cbb1c.nc to ./output/era5/era5_2008_08.nc (72.7M)\n",
      "2023-05-27 23:50:04,314 INFO Download rate 319.1K/s                          \n"
     ]
    },
    {
     "name": "stdout",
     "output_type": "stream",
     "text": [
      "era5_2008_08.nc done\n",
      "2008 09\n"
     ]
    },
    {
     "name": "stderr",
     "output_type": "stream",
     "text": [
      "2023-05-27 23:50:05,667 INFO Welcome to the CDS\n",
      "2023-05-27 23:50:05,667 INFO Sending request to https://cds.climate.copernicus.eu/api/v2/resources/reanalysis-era5-single-levels\n",
      "2023-05-27 23:50:05,942 INFO Request is queued\n",
      "2023-05-27 23:50:07,274 INFO Request is running\n",
      "2023-05-27 23:53:00,476 INFO Request is completed\n",
      "2023-05-27 23:53:00,476 INFO Downloading https://download-0001-clone.copernicus-climate.eu/cache-compute-0001/cache/data7/adaptor.mars.internal-1685242327.303915-29941-7-f4714277-75eb-4e58-b291-f67acc4e0c40.nc to ./output/era5/era5_2008_09.nc (70.3M)\n",
      "2023-05-27 23:56:52,932 INFO Download rate 309.8K/s                          \n"
     ]
    },
    {
     "name": "stdout",
     "output_type": "stream",
     "text": [
      "era5_2008_09.nc done\n",
      "2008 10\n"
     ]
    },
    {
     "name": "stderr",
     "output_type": "stream",
     "text": [
      "2023-05-27 23:56:54,194 INFO Welcome to the CDS\n",
      "2023-05-27 23:56:54,195 INFO Sending request to https://cds.climate.copernicus.eu/api/v2/resources/reanalysis-era5-single-levels\n",
      "2023-05-27 23:56:54,458 INFO Request is queued\n",
      "2023-05-27 23:56:55,791 INFO Request is running\n",
      "2023-05-27 23:59:48,537 INFO Request is completed\n",
      "2023-05-27 23:59:48,537 INFO Downloading https://download-0018.copernicus-climate.eu/cache-compute-0018/cache/data0/adaptor.mars.internal-1685242727.6227467-25930-6-0c31fe36-e59b-4417-91d0-d178ab19c6cd.nc to ./output/era5/era5_2008_10.nc (72.7M)\n",
      "2023-05-28 00:04:26,854 INFO Download rate 267.4K/s                          \n"
     ]
    },
    {
     "name": "stdout",
     "output_type": "stream",
     "text": [
      "era5_2008_10.nc done\n",
      "2008 11\n"
     ]
    },
    {
     "name": "stderr",
     "output_type": "stream",
     "text": [
      "2023-05-28 00:04:28,181 INFO Welcome to the CDS\n",
      "2023-05-28 00:04:28,182 INFO Sending request to https://cds.climate.copernicus.eu/api/v2/resources/reanalysis-era5-single-levels\n",
      "2023-05-28 00:04:28,451 INFO Request is queued\n",
      "2023-05-28 00:04:29,786 INFO Request is running\n",
      "2023-05-28 00:06:24,533 INFO Request is completed\n",
      "2023-05-28 00:06:24,534 INFO Downloading https://download-0007-clone.copernicus-climate.eu/cache-compute-0007/cache/data3/adaptor.mars.internal-1685243176.0410697-9985-19-d8804c61-fc65-4dfc-9aae-27d27893c610.nc to ./output/era5/era5_2008_11.nc (70.3M)\n",
      "2023-05-28 00:10:45,294 INFO Download rate 276.2K/s                          \n"
     ]
    },
    {
     "name": "stdout",
     "output_type": "stream",
     "text": [
      "era5_2008_11.nc done\n",
      "2008 12\n"
     ]
    },
    {
     "name": "stderr",
     "output_type": "stream",
     "text": [
      "2023-05-28 00:10:46,728 INFO Welcome to the CDS\n",
      "2023-05-28 00:10:46,728 INFO Sending request to https://cds.climate.copernicus.eu/api/v2/resources/reanalysis-era5-single-levels\n",
      "2023-05-28 00:10:46,986 INFO Request is queued\n",
      "2023-05-28 00:10:48,303 INFO Request is running\n",
      "2023-05-28 00:13:41,129 INFO Request is completed\n",
      "2023-05-28 00:13:41,130 INFO Downloading https://download-0009-clone.copernicus-climate.eu/cache-compute-0009/cache/data1/adaptor.mars.internal-1685243560.028162-18139-4-5dcc1263-6fa5-4639-b26a-07b72213922a.nc to ./output/era5/era5_2008_12.nc (72.7M)\n",
      "2023-05-28 00:18:11,266 INFO Download rate 275.5K/s                          \n"
     ]
    },
    {
     "name": "stdout",
     "output_type": "stream",
     "text": [
      "era5_2008_12.nc done\n",
      "2009 01\n"
     ]
    },
    {
     "name": "stderr",
     "output_type": "stream",
     "text": [
      "2023-05-28 00:18:12,553 INFO Welcome to the CDS\n",
      "2023-05-28 00:18:12,553 INFO Sending request to https://cds.climate.copernicus.eu/api/v2/resources/reanalysis-era5-single-levels\n",
      "2023-05-28 00:18:12,827 INFO Request is queued\n",
      "2023-05-28 00:18:14,074 INFO Request is running\n",
      "2023-05-28 00:20:08,761 INFO Request is completed\n",
      "2023-05-28 00:20:08,762 INFO Downloading https://download-0005-clone.copernicus-climate.eu/cache-compute-0005/cache/data6/adaptor.mars.internal-1685244001.9303913-12594-16-437715ec-9c77-497a-b8c9-81f97e66c2d3.nc to ./output/era5/era5_2009_01.nc (72.7M)\n",
      "2023-05-28 00:24:33,967 INFO Download rate 280.6K/s                          \n"
     ]
    },
    {
     "name": "stdout",
     "output_type": "stream",
     "text": [
      "era5_2009_01.nc done\n",
      "2009 02\n"
     ]
    },
    {
     "name": "stderr",
     "output_type": "stream",
     "text": [
      "2023-05-28 00:24:35,250 INFO Welcome to the CDS\n",
      "2023-05-28 00:24:35,250 INFO Sending request to https://cds.climate.copernicus.eu/api/v2/resources/reanalysis-era5-single-levels\n",
      "2023-05-28 00:24:35,505 INFO Request is queued\n",
      "2023-05-28 00:24:36,833 INFO Request is running\n",
      "2023-05-28 00:26:32,004 INFO Request is completed\n",
      "2023-05-28 00:26:32,004 INFO Downloading https://download-0010-clone.copernicus-climate.eu/cache-compute-0010/cache/data2/adaptor.mars.internal-1685244371.095491-23746-1-fa74848e-8c91-414f-b069-161330fe00be.nc to ./output/era5/era5_2009_02.nc (65.6M)\n",
      "2023-05-28 00:30:20,628 INFO Download rate 294K/s                            \n"
     ]
    },
    {
     "name": "stdout",
     "output_type": "stream",
     "text": [
      "era5_2009_02.nc done\n",
      "2009 03\n"
     ]
    },
    {
     "name": "stderr",
     "output_type": "stream",
     "text": [
      "2023-05-28 00:30:21,973 INFO Welcome to the CDS\n",
      "2023-05-28 00:30:21,973 INFO Sending request to https://cds.climate.copernicus.eu/api/v2/resources/reanalysis-era5-single-levels\n",
      "2023-05-28 00:30:22,269 INFO Request is queued\n",
      "2023-05-28 00:30:23,518 INFO Request is running\n",
      "2023-05-28 00:32:18,433 INFO Request is completed\n",
      "2023-05-28 00:32:18,434 INFO Downloading https://download-0008-clone.copernicus-climate.eu/cache-compute-0008/cache/data0/adaptor.mars.internal-1685244727.0929859-32377-14-dd7d41d1-331e-4052-8df0-5b9e27d6d9ba.nc to ./output/era5/era5_2009_03.nc (72.7M)\n",
      "2023-05-28 00:36:44,536 INFO Download rate 279.7K/s                          \n"
     ]
    },
    {
     "name": "stdout",
     "output_type": "stream",
     "text": [
      "era5_2009_03.nc done\n",
      "2009 04\n"
     ]
    },
    {
     "name": "stderr",
     "output_type": "stream",
     "text": [
      "2023-05-28 00:36:45,762 INFO Welcome to the CDS\n",
      "2023-05-28 00:36:45,762 INFO Sending request to https://cds.climate.copernicus.eu/api/v2/resources/reanalysis-era5-single-levels\n",
      "2023-05-28 00:36:46,009 INFO Request is queued\n",
      "2023-05-28 00:36:47,253 INFO Request is running\n",
      "2023-05-28 00:38:42,235 INFO Request is completed\n",
      "2023-05-28 00:38:42,236 INFO Downloading https://download-0020.copernicus-climate.eu/cache-compute-0020/cache/data2/adaptor.mars.internal-1685245106.104872-12816-4-b82e9f27-afe9-4887-84b4-3e9a8af1587f.nc to ./output/era5/era5_2009_04.nc (70.3M)\n",
      "2023-05-28 00:43:39,487 INFO Download rate 242.3K/s                          \n"
     ]
    },
    {
     "name": "stdout",
     "output_type": "stream",
     "text": [
      "era5_2009_04.nc done\n",
      "2009 05\n"
     ]
    },
    {
     "name": "stderr",
     "output_type": "stream",
     "text": [
      "2023-05-28 00:43:40,812 INFO Welcome to the CDS\n",
      "2023-05-28 00:43:40,813 INFO Sending request to https://cds.climate.copernicus.eu/api/v2/resources/reanalysis-era5-single-levels\n",
      "2023-05-28 00:43:41,128 INFO Request is queued\n",
      "2023-05-28 00:43:42,408 INFO Request is running\n",
      "2023-05-28 00:46:35,859 INFO Request is completed\n",
      "2023-05-28 00:46:35,859 INFO Downloading https://download-0002-clone.copernicus-climate.eu/cache-compute-0002/cache/data1/adaptor.mars.internal-1685245536.517624-17993-16-5390b38f-6dee-4ade-89a4-d9a39c47323d.nc to ./output/era5/era5_2009_05.nc (72.7M)\n",
      "2023-05-28 00:51:06,508 INFO Download rate 275K/s                            \n"
     ]
    },
    {
     "name": "stdout",
     "output_type": "stream",
     "text": [
      "era5_2009_05.nc done\n",
      "2009 06\n"
     ]
    },
    {
     "name": "stderr",
     "output_type": "stream",
     "text": [
      "2023-05-28 00:51:07,717 INFO Welcome to the CDS\n",
      "2023-05-28 00:51:07,717 INFO Sending request to https://cds.climate.copernicus.eu/api/v2/resources/reanalysis-era5-single-levels\n",
      "2023-05-28 00:51:08,021 INFO Request is queued\n",
      "2023-05-28 00:51:09,263 INFO Request is running\n",
      "2023-05-28 00:53:04,184 INFO Request is completed\n",
      "2023-05-28 00:53:04,185 INFO Downloading https://download-0011-clone.copernicus-climate.eu/cache-compute-0011/cache/data9/adaptor.mars.internal-1685245977.5661418-22000-3-56f830c3-fe6a-4b7e-9a02-f9cedb7abe93.nc to ./output/era5/era5_2009_06.nc (70.3M)\n",
      "2023-05-28 00:57:24,877 INFO Download rate 276.2K/s                          \n"
     ]
    },
    {
     "name": "stdout",
     "output_type": "stream",
     "text": [
      "era5_2009_06.nc done\n",
      "2009 07\n"
     ]
    },
    {
     "name": "stderr",
     "output_type": "stream",
     "text": [
      "2023-05-28 00:57:26,193 INFO Welcome to the CDS\n",
      "2023-05-28 00:57:26,193 INFO Sending request to https://cds.climate.copernicus.eu/api/v2/resources/reanalysis-era5-single-levels\n",
      "2023-05-28 00:57:26,482 INFO Request is queued\n",
      "2023-05-28 00:57:27,790 INFO Request is running\n",
      "2023-05-28 01:00:21,240 INFO Request is completed\n",
      "2023-05-28 01:00:21,240 INFO Downloading https://download-0014-clone.copernicus-climate.eu/cache-compute-0014/cache/data6/adaptor.mars.internal-1685246360.933569-15533-2-25004b43-c251-482e-9603-1b200af34a7f.nc to ./output/era5/era5_2009_07.nc (72.7M)\n",
      "2023-05-28 01:04:29,623 INFO Download rate 299.6K/s                          \n"
     ]
    },
    {
     "name": "stdout",
     "output_type": "stream",
     "text": [
      "era5_2009_07.nc done\n",
      "2009 08\n"
     ]
    },
    {
     "name": "stderr",
     "output_type": "stream",
     "text": [
      "2023-05-28 01:04:31,872 INFO Welcome to the CDS\n",
      "2023-05-28 01:04:31,873 INFO Sending request to https://cds.climate.copernicus.eu/api/v2/resources/reanalysis-era5-single-levels\n",
      "2023-05-28 01:04:32,147 INFO Request is queued\n",
      "2023-05-28 01:04:33,402 INFO Request is running\n",
      "2023-05-28 01:07:26,128 INFO Request is completed\n",
      "2023-05-28 01:07:26,129 INFO Downloading https://download-0005-clone.copernicus-climate.eu/cache-compute-0005/cache/data4/adaptor.mars.internal-1685246782.9632099-622-10-ef4ba5dc-a2c1-4036-8e9f-006aff750c54.nc to ./output/era5/era5_2009_08.nc (72.7M)\n",
      "2023-05-28 01:11:57,419 INFO Download rate 274.3K/s                          \n"
     ]
    },
    {
     "name": "stdout",
     "output_type": "stream",
     "text": [
      "era5_2009_08.nc done\n",
      "2009 09\n"
     ]
    },
    {
     "name": "stderr",
     "output_type": "stream",
     "text": [
      "2023-05-28 01:11:58,747 INFO Welcome to the CDS\n",
      "2023-05-28 01:11:58,747 INFO Sending request to https://cds.climate.copernicus.eu/api/v2/resources/reanalysis-era5-single-levels\n",
      "2023-05-28 01:11:59,019 INFO Request is queued\n",
      "2023-05-28 01:12:00,345 INFO Request is running\n",
      "2023-05-28 01:13:54,991 INFO Request is completed\n",
      "2023-05-28 01:13:54,991 INFO Downloading https://download-0003-clone.copernicus-climate.eu/cache-compute-0003/cache/data9/adaptor.mars.internal-1685247228.4488013-27866-6-40a1cb15-d7ac-4d22-a404-08bf671ee31b.nc to ./output/era5/era5_2009_09.nc (70.3M)\n",
      "2023-05-28 01:18:19,456 INFO Download rate 272.3K/s                          \n"
     ]
    },
    {
     "name": "stdout",
     "output_type": "stream",
     "text": [
      "era5_2009_09.nc done\n",
      "2009 10\n"
     ]
    },
    {
     "name": "stderr",
     "output_type": "stream",
     "text": [
      "2023-05-28 01:18:20,784 INFO Welcome to the CDS\n",
      "2023-05-28 01:18:20,785 INFO Sending request to https://cds.climate.copernicus.eu/api/v2/resources/reanalysis-era5-single-levels\n",
      "2023-05-28 01:18:21,052 INFO Request is queued\n",
      "2023-05-28 01:18:22,307 INFO Request is running\n",
      "2023-05-28 01:21:15,065 INFO Request is completed\n",
      "2023-05-28 01:21:15,066 INFO Downloading https://download-0019.copernicus-climate.eu/cache-compute-0019/cache/data5/adaptor.mars.internal-1685247611.4086032-21507-9-d09a7839-176d-46ba-8889-fac1bdf5400d.nc to ./output/era5/era5_2009_10.nc (72.7M)\n",
      "2023-05-28 01:25:50,257 INFO Download rate 270.4K/s                          \n"
     ]
    },
    {
     "name": "stdout",
     "output_type": "stream",
     "text": [
      "era5_2009_10.nc done\n",
      "2009 11\n"
     ]
    },
    {
     "name": "stderr",
     "output_type": "stream",
     "text": [
      "2023-05-28 01:25:52,226 INFO Welcome to the CDS\n",
      "2023-05-28 01:25:52,227 INFO Sending request to https://cds.climate.copernicus.eu/api/v2/resources/reanalysis-era5-single-levels\n",
      "2023-05-28 01:25:52,521 INFO Request is queued\n",
      "2023-05-28 01:25:53,774 INFO Request is running\n",
      "2023-05-28 01:28:46,459 INFO Request is completed\n",
      "2023-05-28 01:28:46,460 INFO Downloading https://download-0003-clone.copernicus-climate.eu/cache-compute-0003/cache/data4/adaptor.mars.internal-1685248062.5632207-8765-7-da011acb-e83a-4f9b-a4cf-6e3800bc7671.nc to ./output/era5/era5_2009_11.nc (70.3M)\n",
      "2023-05-28 01:33:17,948 INFO Download rate 265.3K/s                          \n"
     ]
    },
    {
     "name": "stdout",
     "output_type": "stream",
     "text": [
      "era5_2009_11.nc done\n",
      "2009 12\n"
     ]
    },
    {
     "name": "stderr",
     "output_type": "stream",
     "text": [
      "2023-05-28 01:33:19,263 INFO Welcome to the CDS\n",
      "2023-05-28 01:33:19,263 INFO Sending request to https://cds.climate.copernicus.eu/api/v2/resources/reanalysis-era5-single-levels\n",
      "2023-05-28 01:33:19,528 INFO Request is queued\n",
      "2023-05-28 01:33:20,858 INFO Request is running\n",
      "2023-05-28 01:35:15,576 INFO Request is completed\n",
      "2023-05-28 01:35:15,577 INFO Downloading https://download-0015-clone.copernicus-climate.eu/cache-compute-0015/cache/data5/adaptor.mars.internal-1685248507.624967-5789-10-bdff6995-bb54-4fc9-82b9-83ec643d2699.nc to ./output/era5/era5_2009_12.nc (72.7M)\n",
      "2023-05-28 01:40:08,334 INFO Download rate 254.2K/s                          \n"
     ]
    },
    {
     "name": "stdout",
     "output_type": "stream",
     "text": [
      "era5_2009_12.nc done\n",
      "2010 01\n"
     ]
    },
    {
     "name": "stderr",
     "output_type": "stream",
     "text": [
      "2023-05-28 01:40:09,602 INFO Welcome to the CDS\n",
      "2023-05-28 01:40:09,603 INFO Sending request to https://cds.climate.copernicus.eu/api/v2/resources/reanalysis-era5-single-levels\n",
      "2023-05-28 01:40:09,886 INFO Request is queued\n",
      "2023-05-28 01:40:11,197 INFO Request is running\n",
      "2023-05-28 01:42:05,942 INFO Request is completed\n",
      "2023-05-28 01:42:05,943 INFO Downloading https://download-0009-clone.copernicus-climate.eu/cache-compute-0009/cache/data3/adaptor.mars.internal-1685248917.2447429-4284-5-75ef91a7-d558-4c7c-b38f-b0d83d5d6fff.nc to ./output/era5/era5_2010_01.nc (72.7M)\n",
      "2023-05-28 01:46:07,014 INFO Download rate 308.7K/s                          \n"
     ]
    },
    {
     "name": "stdout",
     "output_type": "stream",
     "text": [
      "era5_2010_01.nc done\n",
      "2010 02\n"
     ]
    },
    {
     "name": "stderr",
     "output_type": "stream",
     "text": [
      "2023-05-28 01:46:08,411 INFO Welcome to the CDS\n",
      "2023-05-28 01:46:08,412 INFO Sending request to https://cds.climate.copernicus.eu/api/v2/resources/reanalysis-era5-single-levels\n",
      "2023-05-28 01:46:08,698 INFO Request is queued\n",
      "2023-05-28 01:46:10,004 INFO Request is running\n",
      "2023-05-28 01:48:04,882 INFO Request is completed\n",
      "2023-05-28 01:48:04,883 INFO Downloading https://download-0006-clone.copernicus-climate.eu/cache-compute-0006/cache/data1/adaptor.mars.internal-1685249262.356108-29969-17-c25789e0-8cd0-4cfc-ba71-074fc984afbb.nc to ./output/era5/era5_2010_02.nc (65.6M)\n",
      "2023-05-28 01:52:20,454 INFO Download rate 263K/s                            \n"
     ]
    },
    {
     "name": "stdout",
     "output_type": "stream",
     "text": [
      "era5_2010_02.nc done\n",
      "2010 03\n"
     ]
    },
    {
     "name": "stderr",
     "output_type": "stream",
     "text": [
      "2023-05-28 01:52:21,778 INFO Welcome to the CDS\n",
      "2023-05-28 01:52:21,778 INFO Sending request to https://cds.climate.copernicus.eu/api/v2/resources/reanalysis-era5-single-levels\n",
      "2023-05-28 01:52:22,044 INFO Request is queued\n",
      "2023-05-28 01:52:23,375 INFO Request is running\n",
      "2023-05-28 01:55:15,976 INFO Request is completed\n",
      "2023-05-28 01:55:15,976 INFO Downloading https://download-0012-clone.copernicus-climate.eu/cache-compute-0012/cache/data2/adaptor.mars.internal-1685249654.871635-19687-2-c8f7b82c-e7c0-4443-a4ed-a68958522012.nc to ./output/era5/era5_2010_03.nc (72.7M)\n",
      "2023-05-28 01:59:35,011 INFO Download rate 287.3K/s                          \n"
     ]
    },
    {
     "name": "stdout",
     "output_type": "stream",
     "text": [
      "era5_2010_03.nc done\n",
      "2010 04\n"
     ]
    },
    {
     "name": "stderr",
     "output_type": "stream",
     "text": [
      "2023-05-28 01:59:36,247 INFO Welcome to the CDS\n",
      "2023-05-28 01:59:36,248 INFO Sending request to https://cds.climate.copernicus.eu/api/v2/resources/reanalysis-era5-single-levels\n",
      "2023-05-28 01:59:36,534 INFO Request is queued\n",
      "2023-05-28 01:59:37,787 INFO Request is running\n",
      "2023-05-28 02:02:30,755 INFO Request is completed\n",
      "2023-05-28 02:02:30,756 INFO Downloading https://download-0008-clone.copernicus-climate.eu/cache-compute-0008/cache/data9/adaptor.mars.internal-1685250087.0973635-18308-1-3c6e81cd-7999-4286-ade3-99240f6b172d.nc to ./output/era5/era5_2010_04.nc (70.3M)\n",
      "2023-05-28 02:06:58,640 INFO Download rate 268.8K/s                          \n"
     ]
    },
    {
     "name": "stdout",
     "output_type": "stream",
     "text": [
      "era5_2010_04.nc done\n",
      "2010 05\n"
     ]
    },
    {
     "name": "stderr",
     "output_type": "stream",
     "text": [
      "2023-05-28 02:07:00,020 INFO Welcome to the CDS\n",
      "2023-05-28 02:07:00,021 INFO Sending request to https://cds.climate.copernicus.eu/api/v2/resources/reanalysis-era5-single-levels\n",
      "2023-05-28 02:07:00,313 INFO Request is queued\n",
      "2023-05-28 02:07:01,606 INFO Request is running\n",
      "2023-05-28 02:09:54,601 INFO Request is completed\n",
      "2023-05-28 02:09:54,603 INFO Downloading https://download-0012-clone.copernicus-climate.eu/cache-compute-0012/cache/data8/adaptor.mars.internal-1685250544.22779-24458-11-a3840332-1c10-4e28-9fc2-df67512518c2.nc to ./output/era5/era5_2010_05.nc (72.7M)\n",
      "2023-05-28 02:14:16,021 INFO Download rate 284.7K/s                          \n"
     ]
    },
    {
     "name": "stdout",
     "output_type": "stream",
     "text": [
      "era5_2010_05.nc done\n",
      "2010 06\n"
     ]
    },
    {
     "name": "stderr",
     "output_type": "stream",
     "text": [
      "2023-05-28 02:14:17,271 INFO Welcome to the CDS\n",
      "2023-05-28 02:14:17,271 INFO Sending request to https://cds.climate.copernicus.eu/api/v2/resources/reanalysis-era5-single-levels\n",
      "2023-05-28 02:14:17,550 INFO Request is queued\n",
      "2023-05-28 02:14:18,801 INFO Request is running\n",
      "2023-05-28 02:16:13,779 INFO Request is completed\n",
      "2023-05-28 02:16:13,779 INFO Downloading https://download-0005-clone.copernicus-climate.eu/cache-compute-0005/cache/data4/adaptor.mars.internal-1685250965.0582366-9598-10-5e584174-4e0d-4d46-885e-b196e69122bc.nc to ./output/era5/era5_2010_06.nc (70.3M)\n",
      "2023-05-28 02:20:45,248 INFO Download rate 265.3K/s                          \n"
     ]
    },
    {
     "name": "stdout",
     "output_type": "stream",
     "text": [
      "era5_2010_06.nc done\n",
      "2010 07\n"
     ]
    },
    {
     "name": "stderr",
     "output_type": "stream",
     "text": [
      "2023-05-28 02:20:46,507 INFO Welcome to the CDS\n",
      "2023-05-28 02:20:46,508 INFO Sending request to https://cds.climate.copernicus.eu/api/v2/resources/reanalysis-era5-single-levels\n",
      "2023-05-28 02:20:46,786 INFO Request is queued\n",
      "2023-05-28 02:20:48,046 INFO Request is running\n",
      "2023-05-28 02:23:40,784 INFO Request is completed\n",
      "2023-05-28 02:23:40,785 INFO Downloading https://download-0009-clone.copernicus-climate.eu/cache-compute-0009/cache/data7/adaptor.mars.internal-1685251356.7053943-22654-2-39d588f5-f4ac-426f-ba34-5545075894be.nc to ./output/era5/era5_2010_07.nc (72.7M)\n",
      "2023-05-28 02:28:05,119 INFO Download rate 281.5K/s                          \n"
     ]
    },
    {
     "name": "stdout",
     "output_type": "stream",
     "text": [
      "era5_2010_07.nc done\n",
      "2010 08\n"
     ]
    },
    {
     "name": "stderr",
     "output_type": "stream",
     "text": [
      "2023-05-28 02:28:06,392 INFO Welcome to the CDS\n",
      "2023-05-28 02:28:06,393 INFO Sending request to https://cds.climate.copernicus.eu/api/v2/resources/reanalysis-era5-single-levels\n",
      "2023-05-28 02:28:06,664 INFO Request is queued\n",
      "2023-05-28 02:28:07,915 INFO Request is running\n",
      "2023-05-28 02:31:00,801 INFO Request is completed\n",
      "2023-05-28 02:31:00,801 INFO Downloading https://download-0015-clone.copernicus-climate.eu/cache-compute-0015/cache/data4/adaptor.mars.internal-1685251802.0079763-3401-17-f741cacf-3f26-4fd4-8cdf-0e7fd447694b.nc to ./output/era5/era5_2010_08.nc (72.7M)\n",
      "2023-05-28 02:35:21,017 INFO Download rate 286K/s                            \n"
     ]
    },
    {
     "name": "stdout",
     "output_type": "stream",
     "text": [
      "era5_2010_08.nc done\n",
      "2010 09\n"
     ]
    },
    {
     "name": "stderr",
     "output_type": "stream",
     "text": [
      "2023-05-28 02:35:22,294 INFO Welcome to the CDS\n",
      "2023-05-28 02:35:22,294 INFO Sending request to https://cds.climate.copernicus.eu/api/v2/resources/reanalysis-era5-single-levels\n",
      "2023-05-28 02:35:22,560 INFO Request is queued\n",
      "2023-05-28 02:35:23,890 INFO Request is running\n",
      "2023-05-28 02:37:18,699 INFO Request is completed\n",
      "2023-05-28 02:37:18,700 INFO Downloading https://download-0006-clone.copernicus-climate.eu/cache-compute-0006/cache/data1/adaptor.mars.internal-1685252228.8997152-30476-8-4c068e47-b13d-4fcb-a3be-7e811b136237.nc to ./output/era5/era5_2010_09.nc (70.3M)\n",
      "2023-05-28 02:41:37,146 INFO Download rate 278.6K/s                          \n"
     ]
    },
    {
     "name": "stdout",
     "output_type": "stream",
     "text": [
      "era5_2010_09.nc done\n",
      "2010 10\n"
     ]
    },
    {
     "name": "stderr",
     "output_type": "stream",
     "text": [
      "2023-05-28 02:41:38,432 INFO Welcome to the CDS\n",
      "2023-05-28 02:41:38,432 INFO Sending request to https://cds.climate.copernicus.eu/api/v2/resources/reanalysis-era5-single-levels\n",
      "2023-05-28 02:41:38,737 INFO Request is queued\n",
      "2023-05-28 02:41:40,129 INFO Request is running\n",
      "2023-05-28 02:43:35,091 INFO Request is completed\n",
      "2023-05-28 02:43:35,092 INFO Downloading https://download-0004-clone.copernicus-climate.eu/cache-compute-0004/cache/data4/adaptor.mars.internal-1685252606.67919-24398-20-b79970d5-8b6e-4a57-a903-34909140fda1.nc to ./output/era5/era5_2010_10.nc (72.7M)\n",
      "2023-05-28 02:48:22,878 INFO Download rate 258.6K/s                          \n"
     ]
    },
    {
     "name": "stdout",
     "output_type": "stream",
     "text": [
      "era5_2010_10.nc done\n",
      "2010 11\n"
     ]
    },
    {
     "name": "stderr",
     "output_type": "stream",
     "text": [
      "2023-05-28 02:48:24,203 INFO Welcome to the CDS\n",
      "2023-05-28 02:48:24,204 INFO Sending request to https://cds.climate.copernicus.eu/api/v2/resources/reanalysis-era5-single-levels\n",
      "2023-05-28 02:48:24,471 INFO Request is queued\n",
      "2023-05-28 02:48:25,802 INFO Request is running\n",
      "2023-05-28 02:50:20,623 INFO Request is completed\n",
      "2023-05-28 02:50:20,624 INFO Downloading https://download-0004-clone.copernicus-climate.eu/cache-compute-0004/cache/data6/adaptor.mars.internal-1685253012.1476552-29289-19-8da77330-b8f3-4cfb-b90b-7287b70dbbf2.nc to ./output/era5/era5_2010_11.nc (70.3M)\n",
      "2023-05-28 02:58:14,950 INFO Download rate 151.8K/s                          \n"
     ]
    },
    {
     "name": "stdout",
     "output_type": "stream",
     "text": [
      "era5_2010_11.nc done\n",
      "2010 12\n"
     ]
    },
    {
     "name": "stderr",
     "output_type": "stream",
     "text": [
      "2023-05-28 02:58:16,277 INFO Welcome to the CDS\n",
      "2023-05-28 02:58:16,278 INFO Sending request to https://cds.climate.copernicus.eu/api/v2/resources/reanalysis-era5-single-levels\n",
      "2023-05-28 02:58:16,588 INFO Request is queued\n",
      "2023-05-28 02:58:17,841 INFO Request is running\n",
      "2023-05-28 03:00:13,423 INFO Request is completed\n",
      "2023-05-28 03:00:13,424 INFO Downloading https://download-0002-clone.copernicus-climate.eu/cache-compute-0002/cache/data0/adaptor.mars.internal-1685253606.3932564-23267-12-76cef0f6-eec5-40f2-8559-e382697e7416.nc to ./output/era5/era5_2010_12.nc (72.7M)\n",
      "2023-05-28 03:04:43,512 INFO Download rate 275.5K/s                          \n"
     ]
    },
    {
     "name": "stdout",
     "output_type": "stream",
     "text": [
      "era5_2010_12.nc done\n",
      "2011 01\n"
     ]
    },
    {
     "name": "stderr",
     "output_type": "stream",
     "text": [
      "2023-05-28 03:04:44,836 INFO Welcome to the CDS\n",
      "2023-05-28 03:04:44,837 INFO Sending request to https://cds.climate.copernicus.eu/api/v2/resources/reanalysis-era5-single-levels\n",
      "2023-05-28 03:04:45,144 INFO Request is queued\n",
      "2023-05-28 03:04:46,431 INFO Request is running\n",
      "2023-05-28 03:07:39,148 INFO Request is completed\n",
      "2023-05-28 03:07:39,149 INFO Downloading https://download-0010-clone.copernicus-climate.eu/cache-compute-0010/cache/data6/adaptor.mars.internal-1685253998.3060338-15546-19-b1920de9-e322-4a52-a7a7-c70834ec833d.nc to ./output/era5/era5_2011_01.nc (72.7M)\n",
      "2023-05-28 03:12:13,342 INFO Download rate 271.4K/s                          \n"
     ]
    },
    {
     "name": "stdout",
     "output_type": "stream",
     "text": [
      "era5_2011_01.nc done\n",
      "2011 02\n"
     ]
    },
    {
     "name": "stderr",
     "output_type": "stream",
     "text": [
      "2023-05-28 03:12:14,649 INFO Welcome to the CDS\n",
      "2023-05-28 03:12:14,650 INFO Sending request to https://cds.climate.copernicus.eu/api/v2/resources/reanalysis-era5-single-levels\n",
      "2023-05-28 03:12:14,915 INFO Request is queued\n",
      "2023-05-28 03:12:16,248 INFO Request is running\n",
      "2023-05-28 03:14:10,944 INFO Request is completed\n",
      "2023-05-28 03:14:10,945 INFO Downloading https://download-0005-clone.copernicus-climate.eu/cache-compute-0005/cache/data9/adaptor.mars.internal-1685254436.4421656-3676-14-8a63d774-5b49-458f-93b9-d6befb60f5bf.nc to ./output/era5/era5_2011_02.nc (65.6M)\n",
      "2023-05-28 03:18:04,521 INFO Download rate 287.8K/s                          \n"
     ]
    },
    {
     "name": "stdout",
     "output_type": "stream",
     "text": [
      "era5_2011_02.nc done\n",
      "2011 03\n"
     ]
    },
    {
     "name": "stderr",
     "output_type": "stream",
     "text": [
      "2023-05-28 03:18:05,848 INFO Welcome to the CDS\n",
      "2023-05-28 03:18:05,849 INFO Sending request to https://cds.climate.copernicus.eu/api/v2/resources/reanalysis-era5-single-levels\n",
      "2023-05-28 03:18:06,151 INFO Request is queued\n",
      "2023-05-28 03:18:07,448 INFO Request is running\n",
      "2023-05-28 03:21:00,144 INFO Request is completed\n",
      "2023-05-28 03:21:00,145 INFO Downloading https://download-0016.copernicus-climate.eu/cache-compute-0016/cache/data9/adaptor.mars.internal-1685254802.131746-31810-5-1427730e-0c55-4018-9250-acf3d949e0cf.nc to ./output/era5/era5_2011_03.nc (72.7M)\n",
      "2023-05-28 03:25:40,695 INFO Download rate 265.2K/s                          \n"
     ]
    },
    {
     "name": "stdout",
     "output_type": "stream",
     "text": [
      "era5_2011_03.nc done\n",
      "2011 04\n"
     ]
    },
    {
     "name": "stderr",
     "output_type": "stream",
     "text": [
      "2023-05-28 03:25:41,910 INFO Welcome to the CDS\n",
      "2023-05-28 03:25:41,910 INFO Sending request to https://cds.climate.copernicus.eu/api/v2/resources/reanalysis-era5-single-levels\n",
      "2023-05-28 03:25:42,200 INFO Request is queued\n",
      "2023-05-28 03:25:43,518 INFO Request is running\n",
      "2023-05-28 03:28:36,566 INFO Request is completed\n",
      "2023-05-28 03:28:36,567 INFO Downloading https://download-0021.copernicus-climate.eu/cache-compute-0021/cache/data6/adaptor.mars.internal-1685255254.0376694-3181-12-947f9e8e-cc35-48be-9d76-82185eb0cbc7.nc to ./output/era5/era5_2011_04.nc (70.3M)\n",
      "2023-05-28 03:33:03,566 INFO Download rate 269.7K/s                          \n"
     ]
    },
    {
     "name": "stdout",
     "output_type": "stream",
     "text": [
      "era5_2011_04.nc done\n",
      "2011 05\n"
     ]
    },
    {
     "name": "stderr",
     "output_type": "stream",
     "text": [
      "2023-05-28 03:33:04,831 INFO Welcome to the CDS\n",
      "2023-05-28 03:33:04,831 INFO Sending request to https://cds.climate.copernicus.eu/api/v2/resources/reanalysis-era5-single-levels\n",
      "2023-05-28 03:33:05,129 INFO Request is queued\n",
      "2023-05-28 03:33:06,427 INFO Request is running\n",
      "2023-05-28 03:35:59,218 INFO Request is completed\n",
      "2023-05-28 03:35:59,218 INFO Downloading https://download-0020.copernicus-climate.eu/cache-compute-0020/cache/data5/adaptor.mars.internal-1685255699.9287271-15650-8-6bf9fd08-165e-433a-a5b1-ae161c8c29a0.nc to ./output/era5/era5_2011_05.nc (72.7M)\n",
      "2023-05-28 03:40:42,939 INFO Download rate 262.3K/s                          \n"
     ]
    },
    {
     "name": "stdout",
     "output_type": "stream",
     "text": [
      "era5_2011_05.nc done\n",
      "2011 06\n"
     ]
    },
    {
     "name": "stderr",
     "output_type": "stream",
     "text": [
      "2023-05-28 03:40:44,241 INFO Welcome to the CDS\n",
      "2023-05-28 03:40:44,241 INFO Sending request to https://cds.climate.copernicus.eu/api/v2/resources/reanalysis-era5-single-levels\n",
      "2023-05-28 03:40:44,522 INFO Request is queued\n",
      "2023-05-28 03:40:45,852 INFO Request is running\n",
      "2023-05-28 03:43:38,807 INFO Request is completed\n",
      "2023-05-28 03:43:38,808 INFO Downloading https://download-0009-clone.copernicus-climate.eu/cache-compute-0009/cache/data2/adaptor.mars.internal-1685256155.0215654-2849-7-567bbc11-e6b7-4bdb-be4e-1d4239cd9afb.nc to ./output/era5/era5_2011_06.nc (70.3M)\n",
      "2023-05-28 03:47:40,428 INFO Download rate 298.1K/s                          \n"
     ]
    },
    {
     "name": "stdout",
     "output_type": "stream",
     "text": [
      "era5_2011_06.nc done\n",
      "2011 07\n"
     ]
    },
    {
     "name": "stderr",
     "output_type": "stream",
     "text": [
      "2023-05-28 03:47:41,696 INFO Welcome to the CDS\n",
      "2023-05-28 03:47:41,697 INFO Sending request to https://cds.climate.copernicus.eu/api/v2/resources/reanalysis-era5-single-levels\n",
      "2023-05-28 03:47:41,977 INFO Request is queued\n",
      "2023-05-28 03:47:43,237 INFO Request is running\n",
      "2023-05-28 03:50:36,247 INFO Request is completed\n",
      "2023-05-28 03:50:36,248 INFO Downloading https://download-0016.copernicus-climate.eu/cache-compute-0016/cache/data9/adaptor.mars.internal-1685256574.9506524-15357-10-7d4bee22-261c-46b4-9d8b-d89a8df26bb9.nc to ./output/era5/era5_2011_07.nc (72.7M)\n",
      "2023-05-28 03:55:10,301 INFO Download rate 271.5K/s                          \n"
     ]
    },
    {
     "name": "stdout",
     "output_type": "stream",
     "text": [
      "era5_2011_07.nc done\n",
      "2011 08\n"
     ]
    },
    {
     "name": "stderr",
     "output_type": "stream",
     "text": [
      "2023-05-28 03:55:11,536 INFO Welcome to the CDS\n",
      "2023-05-28 03:55:11,536 INFO Sending request to https://cds.climate.copernicus.eu/api/v2/resources/reanalysis-era5-single-levels\n",
      "2023-05-28 03:55:11,823 INFO Request is queued\n",
      "2023-05-28 03:55:13,073 INFO Request is running\n",
      "2023-05-28 03:58:05,884 INFO Request is completed\n",
      "2023-05-28 03:58:05,885 INFO Downloading https://download-0017.copernicus-climate.eu/cache-compute-0017/cache/data3/adaptor.mars.internal-1685257021.740185-14960-1-c25fbf3d-4b0f-4522-9f94-2a8e4f132602.nc to ./output/era5/era5_2011_08.nc (72.7M)\n",
      "2023-05-28 04:02:43,944 INFO Download rate 267.6K/s                          \n"
     ]
    },
    {
     "name": "stdout",
     "output_type": "stream",
     "text": [
      "era5_2011_08.nc done\n",
      "2011 09\n"
     ]
    },
    {
     "name": "stderr",
     "output_type": "stream",
     "text": [
      "2023-05-28 04:02:45,268 INFO Welcome to the CDS\n",
      "2023-05-28 04:02:45,268 INFO Sending request to https://cds.climate.copernicus.eu/api/v2/resources/reanalysis-era5-single-levels\n",
      "2023-05-28 04:02:45,689 INFO Request is queued\n",
      "2023-05-28 04:02:47,037 INFO Request is running\n",
      "2023-05-28 04:05:39,866 INFO Request is completed\n",
      "2023-05-28 04:05:39,867 INFO Downloading https://download-0015-clone.copernicus-climate.eu/cache-compute-0015/cache/data4/adaptor.mars.internal-1685257475.9738472-23826-17-54fa8105-6263-4b28-b10c-eb9f9e0b1e19.nc to ./output/era5/era5_2011_09.nc (70.3M)\n",
      "2023-05-28 04:10:18,223 INFO Download rate 258.7K/s                          \n"
     ]
    },
    {
     "name": "stdout",
     "output_type": "stream",
     "text": [
      "era5_2011_09.nc done\n",
      "2011 10\n"
     ]
    },
    {
     "name": "stderr",
     "output_type": "stream",
     "text": [
      "2023-05-28 04:10:19,547 INFO Welcome to the CDS\n",
      "2023-05-28 04:10:19,548 INFO Sending request to https://cds.climate.copernicus.eu/api/v2/resources/reanalysis-era5-single-levels\n",
      "2023-05-28 04:10:19,812 INFO Request is queued\n",
      "2023-05-28 04:10:21,143 INFO Request is running\n",
      "2023-05-28 04:13:13,789 INFO Request is completed\n",
      "2023-05-28 04:13:13,790 INFO Downloading https://download-0007-clone.copernicus-climate.eu/cache-compute-0007/cache/data4/adaptor.mars.internal-1685257929.8038225-14737-2-737d7c0c-8236-404f-b2ac-032413066246.nc to ./output/era5/era5_2011_10.nc (72.7M)\n",
      "2023-05-28 04:17:56,007 INFO Download rate 263.7K/s                          \n"
     ]
    },
    {
     "name": "stdout",
     "output_type": "stream",
     "text": [
      "era5_2011_10.nc done\n",
      "2011 11\n"
     ]
    },
    {
     "name": "stderr",
     "output_type": "stream",
     "text": [
      "2023-05-28 04:17:57,463 INFO Welcome to the CDS\n",
      "2023-05-28 04:17:57,463 INFO Sending request to https://cds.climate.copernicus.eu/api/v2/resources/reanalysis-era5-single-levels\n",
      "2023-05-28 04:17:57,794 INFO Request is queued\n",
      "2023-05-28 04:17:59,042 INFO Request is running\n",
      "2023-05-28 04:19:53,898 INFO Request is completed\n",
      "2023-05-28 04:19:53,899 INFO Downloading https://download-0013-clone.copernicus-climate.eu/cache-compute-0013/cache/data1/adaptor.mars.internal-1685258387.6212895-26208-10-1e4eb0ce-3200-4ac8-b599-861a8f199e3a.nc to ./output/era5/era5_2011_11.nc (70.3M)\n",
      "2023-05-28 04:24:16,097 INFO Download rate 274.7K/s                          \n"
     ]
    },
    {
     "name": "stdout",
     "output_type": "stream",
     "text": [
      "era5_2011_11.nc done\n",
      "2011 12\n"
     ]
    },
    {
     "name": "stderr",
     "output_type": "stream",
     "text": [
      "2023-05-28 04:24:17,360 INFO Welcome to the CDS\n",
      "2023-05-28 04:24:17,361 INFO Sending request to https://cds.climate.copernicus.eu/api/v2/resources/reanalysis-era5-single-levels\n",
      "2023-05-28 04:24:17,668 INFO Request is queued\n",
      "2023-05-28 04:24:18,945 INFO Request is running\n",
      "2023-05-28 04:27:11,931 INFO Request is completed\n",
      "2023-05-28 04:27:11,931 INFO Downloading https://download-0014-clone.copernicus-climate.eu/cache-compute-0014/cache/data7/adaptor.mars.internal-1685258769.6284165-28765-10-bd0c0e4b-9a86-491a-9464-7aae193f6219.nc to ./output/era5/era5_2011_12.nc (72.7M)\n",
      "2023-05-28 04:31:55,690 INFO Download rate 262.3K/s                          \n"
     ]
    },
    {
     "name": "stdout",
     "output_type": "stream",
     "text": [
      "era5_2011_12.nc done\n",
      "2012 01\n"
     ]
    },
    {
     "name": "stderr",
     "output_type": "stream",
     "text": [
      "2023-05-28 04:31:56,961 INFO Welcome to the CDS\n",
      "2023-05-28 04:31:56,962 INFO Sending request to https://cds.climate.copernicus.eu/api/v2/resources/reanalysis-era5-single-levels\n",
      "2023-05-28 04:31:57,350 INFO Request is queued\n",
      "2023-05-28 04:31:58,712 INFO Request is running\n",
      "2023-05-28 04:34:51,504 INFO Request is completed\n",
      "2023-05-28 04:34:51,505 INFO Downloading https://download-0016.copernicus-climate.eu/cache-compute-0016/cache/data2/adaptor.mars.internal-1685259233.237649-8671-1-f4aeb26e-034d-4bc5-9e65-a5e8547fe329.nc to ./output/era5/era5_2012_01.nc (72.7M)\n",
      "2023-05-28 04:39:12,159 INFO Download rate 285.5K/s                          \n"
     ]
    },
    {
     "name": "stdout",
     "output_type": "stream",
     "text": [
      "era5_2012_01.nc done\n",
      "2012 02\n"
     ]
    },
    {
     "name": "stderr",
     "output_type": "stream",
     "text": [
      "2023-05-28 04:39:13,459 INFO Welcome to the CDS\n",
      "2023-05-28 04:39:13,459 INFO Sending request to https://cds.climate.copernicus.eu/api/v2/resources/reanalysis-era5-single-levels\n",
      "2023-05-28 04:39:13,798 INFO Request is queued\n",
      "2023-05-28 04:39:15,062 INFO Request is running\n",
      "2023-05-28 04:41:09,871 INFO Request is completed\n",
      "2023-05-28 04:41:09,872 INFO Downloading https://download-0006-clone.copernicus-climate.eu/cache-compute-0006/cache/data4/adaptor.mars.internal-1685259659.7723386-622-15-6a09f9e0-0264-4587-b849-c2ed93a80d3f.nc to ./output/era5/era5_2012_02.nc (68M)\n",
      "2023-05-28 04:45:46,107 INFO Download rate 252K/s                            \n"
     ]
    },
    {
     "name": "stdout",
     "output_type": "stream",
     "text": [
      "era5_2012_02.nc done\n",
      "2012 03\n"
     ]
    },
    {
     "name": "stderr",
     "output_type": "stream",
     "text": [
      "2023-05-28 04:45:47,371 INFO Welcome to the CDS\n",
      "2023-05-28 04:45:47,372 INFO Sending request to https://cds.climate.copernicus.eu/api/v2/resources/reanalysis-era5-single-levels\n",
      "2023-05-28 04:45:47,658 INFO Request is queued\n",
      "2023-05-28 04:45:48,918 INFO Request is running\n",
      "2023-05-28 04:48:41,735 INFO Request is completed\n",
      "2023-05-28 04:48:41,736 INFO Downloading https://download-0000-clone.copernicus-climate.eu/cache-compute-0000/cache/data1/adaptor.mars.internal-1685260060.6633353-31271-12-7abfeed8-ad86-47cc-bc09-1c6ff70d6384.nc to ./output/era5/era5_2012_03.nc (72.7M)\n",
      "2023-05-28 04:53:16,792 INFO Download rate 270.5K/s                          \n"
     ]
    },
    {
     "name": "stdout",
     "output_type": "stream",
     "text": [
      "era5_2012_03.nc done\n",
      "2012 04\n"
     ]
    },
    {
     "name": "stderr",
     "output_type": "stream",
     "text": [
      "2023-05-28 04:53:18,009 INFO Welcome to the CDS\n",
      "2023-05-28 04:53:18,009 INFO Sending request to https://cds.climate.copernicus.eu/api/v2/resources/reanalysis-era5-single-levels\n",
      "2023-05-28 04:53:18,305 INFO Request is queued\n",
      "2023-05-28 04:53:19,675 INFO Request is running\n",
      "2023-05-28 04:55:14,597 INFO Request is completed\n",
      "2023-05-28 04:55:14,597 INFO Downloading https://download-0000-clone.copernicus-climate.eu/cache-compute-0000/cache/data0/adaptor.mars.internal-1685260503.5492463-3235-4-364b2ad0-ad0e-4b61-b05e-20adc8e6ed37.nc to ./output/era5/era5_2012_04.nc (70.3M)\n",
      "2023-05-28 04:59:41,858 INFO Download rate 269.5K/s                          \n"
     ]
    },
    {
     "name": "stdout",
     "output_type": "stream",
     "text": [
      "era5_2012_04.nc done\n",
      "2012 05\n"
     ]
    },
    {
     "name": "stderr",
     "output_type": "stream",
     "text": [
      "2023-05-28 04:59:43,182 INFO Welcome to the CDS\n",
      "2023-05-28 04:59:43,183 INFO Sending request to https://cds.climate.copernicus.eu/api/v2/resources/reanalysis-era5-single-levels\n",
      "2023-05-28 04:59:43,551 INFO Request is queued\n",
      "2023-05-28 04:59:44,802 INFO Request is running\n",
      "2023-05-28 05:02:37,582 INFO Request is completed\n",
      "2023-05-28 05:02:37,583 INFO Downloading https://download-0013-clone.copernicus-climate.eu/cache-compute-0013/cache/data4/adaptor.mars.internal-1685260899.7709923-17290-5-28b63110-e1c8-4615-87e5-8477418e54a9.nc to ./output/era5/era5_2012_05.nc (72.7M)\n",
      "2023-05-28 05:07:06,494 INFO Download rate 276.7K/s                          \n"
     ]
    },
    {
     "name": "stdout",
     "output_type": "stream",
     "text": [
      "era5_2012_05.nc done\n",
      "2012 06\n"
     ]
    },
    {
     "name": "stderr",
     "output_type": "stream",
     "text": [
      "2023-05-28 05:07:07,729 INFO Welcome to the CDS\n",
      "2023-05-28 05:07:07,730 INFO Sending request to https://cds.climate.copernicus.eu/api/v2/resources/reanalysis-era5-single-levels\n",
      "2023-05-28 05:07:07,994 INFO Request is queued\n",
      "2023-05-28 05:07:09,253 INFO Request is running\n",
      "2023-05-28 05:09:04,042 INFO Request is completed\n",
      "2023-05-28 05:09:04,043 INFO Downloading https://download-0004-clone.copernicus-climate.eu/cache-compute-0004/cache/data2/adaptor.mars.internal-1685261321.7102048-18249-6-c97782e6-2bd5-4cce-826d-4910a81ad6f6.nc to ./output/era5/era5_2012_06.nc (70.3M)\n",
      "2023-05-28 05:13:33,742 INFO Download rate 267K/s                            \n"
     ]
    },
    {
     "name": "stdout",
     "output_type": "stream",
     "text": [
      "era5_2012_06.nc done\n",
      "2012 07\n"
     ]
    },
    {
     "name": "stderr",
     "output_type": "stream",
     "text": [
      "2023-05-28 05:13:35,073 INFO Welcome to the CDS\n",
      "2023-05-28 05:13:35,074 INFO Sending request to https://cds.climate.copernicus.eu/api/v2/resources/reanalysis-era5-single-levels\n",
      "2023-05-28 05:13:35,339 INFO Request is queued\n",
      "2023-05-28 05:13:36,668 INFO Request is running\n",
      "2023-05-28 05:16:29,466 INFO Request is completed\n",
      "2023-05-28 05:16:29,467 INFO Downloading https://download-0010-clone.copernicus-climate.eu/cache-compute-0010/cache/data3/adaptor.mars.internal-1685261729.5090547-30531-16-c0fb9c07-0efe-4654-aa99-abb0e00dda8c.nc to ./output/era5/era5_2012_07.nc (72.7M)\n",
      "2023-05-28 05:21:13,221 INFO Download rate 262.3K/s                          \n"
     ]
    },
    {
     "name": "stdout",
     "output_type": "stream",
     "text": [
      "era5_2012_07.nc done\n",
      "2012 08\n"
     ]
    },
    {
     "name": "stderr",
     "output_type": "stream",
     "text": [
      "2023-05-28 05:21:14,641 INFO Welcome to the CDS\n",
      "2023-05-28 05:21:14,642 INFO Sending request to https://cds.climate.copernicus.eu/api/v2/resources/reanalysis-era5-single-levels\n",
      "2023-05-28 05:21:14,929 INFO Request is queued\n",
      "2023-05-28 05:21:16,224 INFO Request is running\n",
      "2023-05-28 05:24:09,018 INFO Request is completed\n",
      "2023-05-28 05:24:09,019 INFO Downloading https://download-0017.copernicus-climate.eu/cache-compute-0017/cache/data8/adaptor.mars.internal-1685262185.4624786-27361-6-5db7d62e-fe46-4e7e-b8cf-6ed9ed471c32.nc to ./output/era5/era5_2012_08.nc (72.7M)\n",
      "2023-05-28 05:28:49,445 INFO Download rate 265.4K/s                          \n"
     ]
    },
    {
     "name": "stdout",
     "output_type": "stream",
     "text": [
      "era5_2012_08.nc done\n",
      "2012 09\n"
     ]
    },
    {
     "name": "stderr",
     "output_type": "stream",
     "text": [
      "2023-05-28 05:28:50,687 INFO Welcome to the CDS\n",
      "2023-05-28 05:28:50,688 INFO Sending request to https://cds.climate.copernicus.eu/api/v2/resources/reanalysis-era5-single-levels\n",
      "2023-05-28 05:28:50,968 INFO Request is queued\n",
      "2023-05-28 05:28:52,229 INFO Request is running\n",
      "2023-05-28 05:31:44,983 INFO Request is completed\n",
      "2023-05-28 05:31:44,983 INFO Downloading https://download-0020.copernicus-climate.eu/cache-compute-0020/cache/data3/adaptor.mars.internal-1685262648.3424323-15499-11-b7826a69-9c03-43db-963e-9203625d974d.nc to ./output/era5/era5_2012_09.nc (70.3M)\n",
      "2023-05-28 05:36:19,417 INFO Download rate 262.4K/s                          \n"
     ]
    },
    {
     "name": "stdout",
     "output_type": "stream",
     "text": [
      "era5_2012_09.nc done\n",
      "2012 10\n"
     ]
    },
    {
     "name": "stderr",
     "output_type": "stream",
     "text": [
      "2023-05-28 05:36:20,713 INFO Welcome to the CDS\n",
      "2023-05-28 05:36:20,713 INFO Sending request to https://cds.climate.copernicus.eu/api/v2/resources/reanalysis-era5-single-levels\n",
      "2023-05-28 05:36:20,967 INFO Request is queued\n",
      "2023-05-28 05:36:22,222 INFO Request is running\n",
      "2023-05-28 05:38:16,878 INFO Request is completed\n",
      "2023-05-28 05:38:16,879 INFO Downloading https://download-0000-clone.copernicus-climate.eu/cache-compute-0000/cache/data1/adaptor.mars.internal-1685263086.7915976-22075-12-57615bc2-6d43-4e35-a532-765943e49163.nc to ./output/era5/era5_2012_10.nc (72.7M)\n",
      "2023-05-28 05:42:51,170 INFO Download rate 271.3K/s                          \n"
     ]
    },
    {
     "name": "stdout",
     "output_type": "stream",
     "text": [
      "era5_2012_10.nc done\n",
      "2012 11\n"
     ]
    },
    {
     "name": "stderr",
     "output_type": "stream",
     "text": [
      "2023-05-28 05:42:52,402 INFO Welcome to the CDS\n",
      "2023-05-28 05:42:52,403 INFO Sending request to https://cds.climate.copernicus.eu/api/v2/resources/reanalysis-era5-single-levels\n",
      "2023-05-28 05:42:52,696 INFO Request is queued\n",
      "2023-05-28 05:42:53,942 INFO Request is running\n",
      "2023-05-28 05:44:48,918 INFO Request is completed\n",
      "2023-05-28 05:44:48,918 INFO Downloading https://download-0017.copernicus-climate.eu/cache-compute-0017/cache/data7/adaptor.mars.internal-1685263482.1084237-9469-3-be46eb9e-f91a-4950-b850-d8d540976899.nc to ./output/era5/era5_2012_11.nc (70.3M)\n",
      "2023-05-28 05:49:26,210 INFO Download rate 259.7K/s                          \n"
     ]
    },
    {
     "name": "stdout",
     "output_type": "stream",
     "text": [
      "era5_2012_11.nc done\n",
      "2012 12\n"
     ]
    },
    {
     "name": "stderr",
     "output_type": "stream",
     "text": [
      "2023-05-28 05:49:27,534 INFO Welcome to the CDS\n",
      "2023-05-28 05:49:27,535 INFO Sending request to https://cds.climate.copernicus.eu/api/v2/resources/reanalysis-era5-single-levels\n",
      "2023-05-28 05:49:27,803 INFO Request is queued\n",
      "2023-05-28 05:49:29,129 INFO Request is running\n",
      "2023-05-28 05:52:21,941 INFO Request is completed\n",
      "2023-05-28 05:52:21,942 INFO Downloading https://download-0016.copernicus-climate.eu/cache-compute-0016/cache/data4/adaptor.mars.internal-1685263883.7668662-21586-2-1e996533-34bd-4886-9ba9-d21181c9b723.nc to ./output/era5/era5_2012_12.nc (72.7M)\n",
      "2023-05-28 05:57:09,082 INFO Download rate 259.2K/s                          \n"
     ]
    },
    {
     "name": "stdout",
     "output_type": "stream",
     "text": [
      "era5_2012_12.nc done\n",
      "2013 01\n"
     ]
    },
    {
     "name": "stderr",
     "output_type": "stream",
     "text": [
      "2023-05-28 05:57:10,402 INFO Welcome to the CDS\n",
      "2023-05-28 05:57:10,403 INFO Sending request to https://cds.climate.copernicus.eu/api/v2/resources/reanalysis-era5-single-levels\n",
      "2023-05-28 05:57:10,698 INFO Request is queued\n",
      "2023-05-28 05:57:11,977 INFO Request is running\n",
      "2023-05-28 05:59:07,262 INFO Request is completed\n",
      "2023-05-28 05:59:07,262 INFO Downloading https://download-0009-clone.copernicus-climate.eu/cache-compute-0009/cache/data7/adaptor.mars.internal-1685264337.8918016-5821-14-5e928c9d-d7d1-420f-b13e-aac97666ddee.nc to ./output/era5/era5_2013_01.nc (72.7M)\n",
      "2023-05-28 06:03:55,926 INFO Download rate 257.8K/s                          \n"
     ]
    },
    {
     "name": "stdout",
     "output_type": "stream",
     "text": [
      "era5_2013_01.nc done\n",
      "2013 02\n"
     ]
    },
    {
     "name": "stderr",
     "output_type": "stream",
     "text": [
      "2023-05-28 06:03:57,252 INFO Welcome to the CDS\n",
      "2023-05-28 06:03:57,252 INFO Sending request to https://cds.climate.copernicus.eu/api/v2/resources/reanalysis-era5-single-levels\n",
      "2023-05-28 06:03:57,555 INFO Request is queued\n",
      "2023-05-28 06:03:58,810 INFO Request is running\n",
      "2023-05-28 06:05:53,655 INFO Request is completed\n",
      "2023-05-28 06:05:53,656 INFO Downloading https://download-0011-clone.copernicus-climate.eu/cache-compute-0011/cache/data3/adaptor.mars.internal-1685264736.2480822-30632-13-aca6ddd7-5160-4afc-aeb9-9abbf27cf367.nc to ./output/era5/era5_2013_02.nc (65.6M)\n",
      "2023-05-28 06:10:22,377 INFO Download rate 250.1K/s                          \n"
     ]
    },
    {
     "name": "stdout",
     "output_type": "stream",
     "text": [
      "era5_2013_02.nc done\n",
      "2013 03\n"
     ]
    },
    {
     "name": "stderr",
     "output_type": "stream",
     "text": [
      "2023-05-28 06:10:23,746 INFO Welcome to the CDS\n",
      "2023-05-28 06:10:23,746 INFO Sending request to https://cds.climate.copernicus.eu/api/v2/resources/reanalysis-era5-single-levels\n",
      "2023-05-28 06:10:24,004 INFO Request is queued\n",
      "2023-05-28 06:10:25,336 INFO Request is running\n",
      "2023-05-28 06:13:18,137 INFO Request is completed\n",
      "2023-05-28 06:13:18,138 INFO Downloading https://download-0012-clone.copernicus-climate.eu/cache-compute-0012/cache/data6/adaptor.mars.internal-1685265145.8635137-29277-18-9aa1f187-b971-4db4-bd77-1fb2a85a5b08.nc to ./output/era5/era5_2013_03.nc (72.7M)\n",
      "2023-05-28 06:17:56,696 INFO Download rate 267.1K/s                          \n"
     ]
    },
    {
     "name": "stdout",
     "output_type": "stream",
     "text": [
      "era5_2013_03.nc done\n",
      "2013 04\n"
     ]
    },
    {
     "name": "stderr",
     "output_type": "stream",
     "text": [
      "2023-05-28 06:17:58,022 INFO Welcome to the CDS\n",
      "2023-05-28 06:17:58,023 INFO Sending request to https://cds.climate.copernicus.eu/api/v2/resources/reanalysis-era5-single-levels\n",
      "2023-05-28 06:17:58,296 INFO Request is queued\n",
      "2023-05-28 06:17:59,557 INFO Request is running\n",
      "2023-05-28 06:19:54,585 INFO Request is completed\n",
      "2023-05-28 06:19:54,586 INFO Downloading https://download-0012-clone.copernicus-climate.eu/cache-compute-0012/cache/data1/adaptor.mars.internal-1685265581.7646272-4657-10-1a7faf51-4c5c-4e9b-828e-ff78fa431dae.nc to ./output/era5/era5_2013_04.nc (70.3M)\n",
      "2023-05-28 06:24:12,891 INFO Download rate 278.8K/s                          \n"
     ]
    },
    {
     "name": "stdout",
     "output_type": "stream",
     "text": [
      "era5_2013_04.nc done\n",
      "2013 05\n"
     ]
    },
    {
     "name": "stderr",
     "output_type": "stream",
     "text": [
      "2023-05-28 06:24:14,309 INFO Welcome to the CDS\n",
      "2023-05-28 06:24:14,310 INFO Sending request to https://cds.climate.copernicus.eu/api/v2/resources/reanalysis-era5-single-levels\n",
      "2023-05-28 06:24:14,594 INFO Request is queued\n",
      "2023-05-28 06:24:15,894 INFO Request is running\n",
      "2023-05-28 06:26:10,671 INFO Request is completed\n",
      "2023-05-28 06:26:10,672 INFO Downloading https://download-0005-clone.copernicus-climate.eu/cache-compute-0005/cache/data4/adaptor.mars.internal-1685265962.3596463-11530-10-0622dec3-6f99-4720-9619-6d201657b0ae.nc to ./output/era5/era5_2013_05.nc (72.7M)\n",
      "2023-05-28 06:31:00,578 INFO Download rate 256.7K/s                          \n"
     ]
    },
    {
     "name": "stdout",
     "output_type": "stream",
     "text": [
      "era5_2013_05.nc done\n",
      "2013 06\n"
     ]
    },
    {
     "name": "stderr",
     "output_type": "stream",
     "text": [
      "2023-05-28 06:31:01,807 INFO Welcome to the CDS\n",
      "2023-05-28 06:31:01,807 INFO Sending request to https://cds.climate.copernicus.eu/api/v2/resources/reanalysis-era5-single-levels\n",
      "2023-05-28 06:31:02,059 INFO Request is queued\n",
      "2023-05-28 06:31:03,316 INFO Request is running\n",
      "2023-05-28 06:32:58,303 INFO Request is completed\n",
      "2023-05-28 06:32:58,304 INFO Downloading https://download-0010-clone.copernicus-climate.eu/cache-compute-0010/cache/data7/adaptor.mars.internal-1685266365.592523-6924-10-b00ed268-6433-43b3-97be-366adf807440.nc to ./output/era5/era5_2013_06.nc (70.3M)\n",
      "2023-05-28 06:37:15,803 INFO Download rate 279.7K/s                          \n"
     ]
    },
    {
     "name": "stdout",
     "output_type": "stream",
     "text": [
      "era5_2013_06.nc done\n",
      "2013 07\n"
     ]
    },
    {
     "name": "stderr",
     "output_type": "stream",
     "text": [
      "2023-05-28 06:37:17,093 INFO Welcome to the CDS\n",
      "2023-05-28 06:37:17,094 INFO Sending request to https://cds.climate.copernicus.eu/api/v2/resources/reanalysis-era5-single-levels\n",
      "2023-05-28 06:37:17,399 INFO Request is queued\n",
      "2023-05-28 06:37:18,688 INFO Request is running\n",
      "2023-05-28 06:39:13,591 INFO Request is completed\n",
      "2023-05-28 06:39:13,592 INFO Downloading https://download-0017.copernicus-climate.eu/cache-compute-0017/cache/data3/adaptor.mars.internal-1685266738.778486-29218-19-98e00655-61e3-4158-a24e-bd2f8c4b7eec.nc to ./output/era5/era5_2013_07.nc (72.7M)\n",
      "2023-05-28 06:43:49,797 INFO Download rate 269.4K/s                          \n"
     ]
    },
    {
     "name": "stdout",
     "output_type": "stream",
     "text": [
      "era5_2013_07.nc done\n",
      "2013 08\n"
     ]
    },
    {
     "name": "stderr",
     "output_type": "stream",
     "text": [
      "2023-05-28 06:43:51,097 INFO Welcome to the CDS\n",
      "2023-05-28 06:43:51,097 INFO Sending request to https://cds.climate.copernicus.eu/api/v2/resources/reanalysis-era5-single-levels\n",
      "2023-05-28 06:43:51,374 INFO Request is queued\n",
      "2023-05-28 06:43:52,654 INFO Request is running\n",
      "2023-05-28 06:45:47,566 INFO Request is completed\n",
      "2023-05-28 06:45:47,567 INFO Downloading https://download-0007-clone.copernicus-climate.eu/cache-compute-0007/cache/data0/adaptor.mars.internal-1685267136.0870194-5412-11-2e692b22-3967-4944-b2f8-580458894414.nc to ./output/era5/era5_2013_08.nc (72.7M)\n",
      "2023-05-28 06:50:10,237 INFO Download rate 283.3K/s                          \n"
     ]
    },
    {
     "name": "stdout",
     "output_type": "stream",
     "text": [
      "era5_2013_08.nc done\n",
      "2013 09\n"
     ]
    },
    {
     "name": "stderr",
     "output_type": "stream",
     "text": [
      "2023-05-28 06:50:11,644 INFO Welcome to the CDS\n",
      "2023-05-28 06:50:11,645 INFO Sending request to https://cds.climate.copernicus.eu/api/v2/resources/reanalysis-era5-single-levels\n",
      "2023-05-28 06:50:11,914 INFO Request is queued\n",
      "2023-05-28 06:50:13,207 INFO Request is running\n",
      "2023-05-28 06:53:06,102 INFO Request is completed\n",
      "2023-05-28 06:53:06,103 INFO Downloading https://download-0005-clone.copernicus-climate.eu/cache-compute-0005/cache/data1/adaptor.mars.internal-1685267522.2566059-28930-17-76f7a761-49b4-4214-885c-762cf92c63a9.nc to ./output/era5/era5_2013_09.nc (70.3M)\n",
      "2023-05-28 06:57:45,686 INFO Download rate 257.6K/s                          \n"
     ]
    },
    {
     "name": "stdout",
     "output_type": "stream",
     "text": [
      "era5_2013_09.nc done\n",
      "2013 10\n"
     ]
    },
    {
     "name": "stderr",
     "output_type": "stream",
     "text": [
      "2023-05-28 06:57:46,971 INFO Welcome to the CDS\n",
      "2023-05-28 06:57:46,972 INFO Sending request to https://cds.climate.copernicus.eu/api/v2/resources/reanalysis-era5-single-levels\n",
      "2023-05-28 06:57:47,261 INFO Request is queued\n",
      "2023-05-28 06:57:48,510 INFO Request is running\n",
      "2023-05-28 06:59:43,352 INFO Request is completed\n",
      "2023-05-28 06:59:43,353 INFO Downloading https://download-0005-clone.copernicus-climate.eu/cache-compute-0005/cache/data1/adaptor.mars.internal-1685267974.9983218-30446-15-e8be69b5-aa55-4176-886b-7d5e8b0c8e50.nc to ./output/era5/era5_2013_10.nc (72.7M)\n",
      "2023-05-28 07:04:20,974 INFO Download rate 268K/s                            \n"
     ]
    },
    {
     "name": "stdout",
     "output_type": "stream",
     "text": [
      "era5_2013_10.nc done\n",
      "2013 11\n"
     ]
    },
    {
     "name": "stderr",
     "output_type": "stream",
     "text": [
      "2023-05-28 07:04:22,448 INFO Welcome to the CDS\n",
      "2023-05-28 07:04:22,448 INFO Sending request to https://cds.climate.copernicus.eu/api/v2/resources/reanalysis-era5-single-levels\n",
      "2023-05-28 07:04:22,734 INFO Request is queued\n",
      "2023-05-28 07:04:24,036 INFO Request is running\n",
      "2023-05-28 07:06:18,803 INFO Request is completed\n",
      "2023-05-28 07:06:18,803 INFO Downloading https://download-0011-clone.copernicus-climate.eu/cache-compute-0011/cache/data7/adaptor.mars.internal-1685268368.5682957-1402-6-b858dbb0-66f7-4545-a7a5-75f1890f07fc.nc to ./output/era5/era5_2013_11.nc (70.3M)\n",
      "2023-05-28 07:10:23,422 INFO Download rate 294.4K/s                          \n"
     ]
    },
    {
     "name": "stdout",
     "output_type": "stream",
     "text": [
      "era5_2013_11.nc done\n",
      "2013 12\n"
     ]
    },
    {
     "name": "stderr",
     "output_type": "stream",
     "text": [
      "2023-05-28 07:10:24,712 INFO Welcome to the CDS\n",
      "2023-05-28 07:10:24,713 INFO Sending request to https://cds.climate.copernicus.eu/api/v2/resources/reanalysis-era5-single-levels\n",
      "2023-05-28 07:10:24,986 INFO Request is queued\n",
      "2023-05-28 07:10:26,308 INFO Request is running\n",
      "2023-05-28 07:12:21,137 INFO Request is completed\n",
      "2023-05-28 07:12:21,138 INFO Downloading https://download-0008-clone.copernicus-climate.eu/cache-compute-0008/cache/data9/adaptor.mars.internal-1685268733.320661-27590-12-f9becc7e-58c9-4707-a1f0-f8ae7e7b45f7.nc to ./output/era5/era5_2013_12.nc (72.7M)\n",
      "2023-05-28 07:17:18,867 INFO Download rate 249.9K/s                          \n"
     ]
    },
    {
     "name": "stdout",
     "output_type": "stream",
     "text": [
      "era5_2013_12.nc done\n",
      "2014 01\n"
     ]
    },
    {
     "name": "stderr",
     "output_type": "stream",
     "text": [
      "2023-05-28 07:17:20,181 INFO Welcome to the CDS\n",
      "2023-05-28 07:17:20,182 INFO Sending request to https://cds.climate.copernicus.eu/api/v2/resources/reanalysis-era5-single-levels\n",
      "2023-05-28 07:17:20,447 INFO Request is queued\n",
      "2023-05-28 07:17:21,778 INFO Request is running\n",
      "2023-05-28 07:19:16,498 INFO Request is completed\n",
      "2023-05-28 07:19:16,499 INFO Downloading https://download-0004-clone.copernicus-climate.eu/cache-compute-0004/cache/data6/adaptor.mars.internal-1685269144.3362145-18856-8-7699aa7b-0caa-4dca-89cb-39d9161aca22.nc to ./output/era5/era5_2014_01.nc (72.7M)\n",
      "2023-05-28 07:24:14,530 INFO Download rate 249.7K/s                          \n"
     ]
    },
    {
     "name": "stdout",
     "output_type": "stream",
     "text": [
      "era5_2014_01.nc done\n",
      "2014 02\n"
     ]
    },
    {
     "name": "stderr",
     "output_type": "stream",
     "text": [
      "2023-05-28 07:24:15,802 INFO Welcome to the CDS\n",
      "2023-05-28 07:24:15,802 INFO Sending request to https://cds.climate.copernicus.eu/api/v2/resources/reanalysis-era5-single-levels\n",
      "2023-05-28 07:24:16,071 INFO Request is queued\n",
      "2023-05-28 07:24:17,334 INFO Request is running\n",
      "2023-05-28 07:26:12,250 INFO Request is completed\n",
      "2023-05-28 07:26:12,251 INFO Downloading https://download-0003-clone.copernicus-climate.eu/cache-compute-0003/cache/data5/adaptor.mars.internal-1685269547.600383-6036-2-d12c5065-435d-45cb-8327-f091a9875d61.nc to ./output/era5/era5_2014_02.nc (65.6M)\n",
      "2023-05-28 07:30:33,370 INFO Download rate 257.4K/s                          \n"
     ]
    },
    {
     "name": "stdout",
     "output_type": "stream",
     "text": [
      "era5_2014_02.nc done\n",
      "2014 03\n"
     ]
    },
    {
     "name": "stderr",
     "output_type": "stream",
     "text": [
      "2023-05-28 07:30:34,599 INFO Welcome to the CDS\n",
      "2023-05-28 07:30:34,600 INFO Sending request to https://cds.climate.copernicus.eu/api/v2/resources/reanalysis-era5-single-levels\n",
      "2023-05-28 07:30:34,864 INFO Request is queued\n",
      "2023-05-28 07:30:36,109 INFO Request is running\n",
      "2023-05-28 07:32:30,859 INFO Request is completed\n",
      "2023-05-28 07:32:30,861 INFO Downloading https://download-0012-clone.copernicus-climate.eu/cache-compute-0012/cache/data7/adaptor.mars.internal-1685269934.0640218-18486-4-a6de857f-ea17-470f-be8d-524e21346f2e.nc to ./output/era5/era5_2014_03.nc (72.7M)\n",
      "2023-05-28 07:37:04,686 INFO Download rate 271.8K/s                          \n"
     ]
    },
    {
     "name": "stdout",
     "output_type": "stream",
     "text": [
      "era5_2014_03.nc done\n",
      "2014 04\n"
     ]
    },
    {
     "name": "stderr",
     "output_type": "stream",
     "text": [
      "2023-05-28 07:37:05,954 INFO Welcome to the CDS\n",
      "2023-05-28 07:37:05,954 INFO Sending request to https://cds.climate.copernicus.eu/api/v2/resources/reanalysis-era5-single-levels\n",
      "2023-05-28 07:37:06,209 INFO Request is queued\n",
      "2023-05-28 07:37:07,470 INFO Request is running\n",
      "2023-05-28 07:39:02,238 INFO Request is completed\n",
      "2023-05-28 07:39:02,239 INFO Downloading https://download-0018.copernicus-climate.eu/cache-compute-0018/cache/data9/adaptor.mars.internal-1685270298.3140085-2562-18-493f55c1-e997-4acc-948c-52f6fbdee566.nc to ./output/era5/era5_2014_04.nc (70.3M)\n",
      "2023-05-28 07:43:33,933 INFO Download rate 265.1K/s                          \n"
     ]
    },
    {
     "name": "stdout",
     "output_type": "stream",
     "text": [
      "era5_2014_04.nc done\n",
      "2014 05\n"
     ]
    },
    {
     "name": "stderr",
     "output_type": "stream",
     "text": [
      "2023-05-28 07:43:35,236 INFO Welcome to the CDS\n",
      "2023-05-28 07:43:35,237 INFO Sending request to https://cds.climate.copernicus.eu/api/v2/resources/reanalysis-era5-single-levels\n",
      "2023-05-28 07:43:35,515 INFO Request is queued\n",
      "2023-05-28 07:43:36,772 INFO Request is running\n",
      "2023-05-28 07:45:31,559 INFO Request is completed\n",
      "2023-05-28 07:45:31,559 INFO Downloading https://download-0016.copernicus-climate.eu/cache-compute-0016/cache/data5/adaptor.mars.internal-1685270718.2996383-18794-13-3fec9d0c-5b9a-4730-962c-917d17c097b2.nc to ./output/era5/era5_2014_05.nc (72.7M)\n",
      "2023-05-28 07:50:17,015 INFO Download rate 260.7K/s                          \n"
     ]
    },
    {
     "name": "stdout",
     "output_type": "stream",
     "text": [
      "era5_2014_05.nc done\n",
      "2014 06\n"
     ]
    },
    {
     "name": "stderr",
     "output_type": "stream",
     "text": [
      "2023-05-28 07:50:18,332 INFO Welcome to the CDS\n",
      "2023-05-28 07:50:18,335 INFO Sending request to https://cds.climate.copernicus.eu/api/v2/resources/reanalysis-era5-single-levels\n",
      "2023-05-28 07:50:18,589 INFO Request is queued\n",
      "2023-05-28 07:50:19,854 INFO Request is running\n",
      "2023-05-28 07:52:14,758 INFO Request is completed\n",
      "2023-05-28 07:52:14,758 INFO Downloading https://download-0007-clone.copernicus-climate.eu/cache-compute-0007/cache/data9/adaptor.mars.internal-1685271116.1276968-1692-3-a395f106-9015-4a73-a2dd-81ba065a1873.nc to ./output/era5/era5_2014_06.nc (70.3M)\n",
      "2023-05-28 07:56:05,165 INFO Download rate 312.6K/s                          \n"
     ]
    },
    {
     "name": "stdout",
     "output_type": "stream",
     "text": [
      "era5_2014_06.nc done\n",
      "2014 07\n"
     ]
    },
    {
     "name": "stderr",
     "output_type": "stream",
     "text": [
      "2023-05-28 07:56:06,429 INFO Welcome to the CDS\n",
      "2023-05-28 07:56:06,429 INFO Sending request to https://cds.climate.copernicus.eu/api/v2/resources/reanalysis-era5-single-levels\n",
      "2023-05-28 07:56:06,788 INFO Request is queued\n",
      "2023-05-28 07:56:08,044 INFO Request is running\n",
      "2023-05-28 07:58:03,043 INFO Request is completed\n",
      "2023-05-28 07:58:03,044 INFO Downloading https://download-0017.copernicus-climate.eu/cache-compute-0017/cache/data0/adaptor.mars.internal-1685271474.1899831-19118-10-b42bb11f-c6ed-466f-b580-50bc8abcb7c5.nc to ./output/era5/era5_2014_07.nc (72.7M)\n",
      "2023-05-28 08:02:57,518 INFO Download rate 252.7K/s                          \n"
     ]
    },
    {
     "name": "stdout",
     "output_type": "stream",
     "text": [
      "era5_2014_07.nc done\n",
      "2014 08\n"
     ]
    },
    {
     "name": "stderr",
     "output_type": "stream",
     "text": [
      "2023-05-28 08:02:58,771 INFO Welcome to the CDS\n",
      "2023-05-28 08:02:58,771 INFO Sending request to https://cds.climate.copernicus.eu/api/v2/resources/reanalysis-era5-single-levels\n",
      "2023-05-28 08:02:59,112 INFO Request is queued\n",
      "2023-05-28 08:03:00,372 INFO Request is running\n",
      "2023-05-28 08:04:55,255 INFO Request is completed\n",
      "2023-05-28 08:04:55,256 INFO Downloading https://download-0010-clone.copernicus-climate.eu/cache-compute-0010/cache/data8/adaptor.mars.internal-1685271871.9215994-27454-9-b00070a5-944c-4b69-a0a0-eff5415f325e.nc to ./output/era5/era5_2014_08.nc (72.7M)\n",
      "2023-05-28 08:10:08,708 INFO Download rate 237.4K/s                          \n"
     ]
    },
    {
     "name": "stdout",
     "output_type": "stream",
     "text": [
      "era5_2014_08.nc done\n",
      "2014 09\n"
     ]
    },
    {
     "name": "stderr",
     "output_type": "stream",
     "text": [
      "2023-05-28 08:10:09,940 INFO Welcome to the CDS\n",
      "2023-05-28 08:10:09,941 INFO Sending request to https://cds.climate.copernicus.eu/api/v2/resources/reanalysis-era5-single-levels\n",
      "2023-05-28 08:10:10,209 INFO Request is queued\n",
      "2023-05-28 08:10:11,471 INFO Request is running\n",
      "2023-05-28 08:12:06,332 INFO Request is completed\n",
      "2023-05-28 08:12:06,332 INFO Downloading https://download-0009-clone.copernicus-climate.eu/cache-compute-0009/cache/data1/adaptor.mars.internal-1685272313.8735366-14104-4-16bdafdf-1964-4e01-ac64-1acd4b18bd13.nc to ./output/era5/era5_2014_09.nc (70.3M)\n",
      "2023-05-28 08:16:45,333 INFO Download rate 258.1K/s                          \n"
     ]
    },
    {
     "name": "stdout",
     "output_type": "stream",
     "text": [
      "era5_2014_09.nc done\n",
      "2014 10\n"
     ]
    },
    {
     "name": "stderr",
     "output_type": "stream",
     "text": [
      "2023-05-28 08:16:46,570 INFO Welcome to the CDS\n",
      "2023-05-28 08:16:46,571 INFO Sending request to https://cds.climate.copernicus.eu/api/v2/resources/reanalysis-era5-single-levels\n",
      "2023-05-28 08:16:46,851 INFO Request is queued\n",
      "2023-05-28 08:16:48,099 INFO Request is running\n",
      "2023-05-28 08:17:38,220 INFO Request is completed\n",
      "2023-05-28 08:17:38,221 INFO Downloading https://download-0017.copernicus-climate.eu/cache-compute-0017/cache/data7/adaptor.mars.internal-1685272637.4774203-31188-14-51de3c87-98f9-4cd5-8088-ca67e9a50ff3.nc to ./output/era5/era5_2014_10.nc (72.7M)\n",
      "2023-05-28 08:22:09,292 INFO Download rate 274.5K/s                          \n"
     ]
    },
    {
     "name": "stdout",
     "output_type": "stream",
     "text": [
      "era5_2014_10.nc done\n",
      "2014 11\n"
     ]
    },
    {
     "name": "stderr",
     "output_type": "stream",
     "text": [
      "2023-05-28 08:22:10,521 INFO Welcome to the CDS\n",
      "2023-05-28 08:22:10,521 INFO Sending request to https://cds.climate.copernicus.eu/api/v2/resources/reanalysis-era5-single-levels\n",
      "2023-05-28 08:22:10,795 INFO Request is queued\n",
      "2023-05-28 08:22:12,142 INFO Request is running\n",
      "2023-05-28 08:24:06,901 INFO Request is completed\n",
      "2023-05-28 08:24:06,902 INFO Downloading https://download-0021.copernicus-climate.eu/cache-compute-0021/cache/data9/adaptor.mars.internal-1685273030.1318786-10369-5-4e4d3bfc-4e1d-449f-9495-034ceaf42a8d.nc to ./output/era5/era5_2014_11.nc (70.3M)\n",
      "2023-05-28 08:29:03,434 INFO Download rate 242.9K/s                          \n"
     ]
    },
    {
     "name": "stdout",
     "output_type": "stream",
     "text": [
      "era5_2014_11.nc done\n",
      "2014 12\n"
     ]
    },
    {
     "name": "stderr",
     "output_type": "stream",
     "text": [
      "2023-05-28 08:29:04,688 INFO Welcome to the CDS\n",
      "2023-05-28 08:29:04,688 INFO Sending request to https://cds.climate.copernicus.eu/api/v2/resources/reanalysis-era5-single-levels\n",
      "2023-05-28 08:29:04,944 INFO Request is queued\n",
      "2023-05-28 08:29:06,190 INFO Request is running\n",
      "2023-05-28 08:31:00,940 INFO Request is completed\n",
      "2023-05-28 08:31:00,941 INFO Downloading https://download-0019.copernicus-climate.eu/cache-compute-0019/cache/data4/adaptor.mars.internal-1685273449.340169-32207-6-f55d359f-7bf9-4d92-a999-f51865df619b.nc to ./output/era5/era5_2014_12.nc (72.7M)\n",
      "2023-05-28 08:35:17,863 INFO Download rate 289.6K/s                          \n"
     ]
    },
    {
     "name": "stdout",
     "output_type": "stream",
     "text": [
      "era5_2014_12.nc done\n"
     ]
    }
   ],
   "source": [
    "c = cdsapi.Client(key=api_key, url=\"https://cds.climate.copernicus.eu/api/v2\")\n",
    "\n",
    "years = list(range(2005, 2015))\n",
    "months = [\"{:02d}\".format(number) for number in range(1, 13)]\n",
    "\n",
    "for year in years:\n",
    "    for month in months:\n",
    "        print(year, month)\n",
    "        \n",
    "        if os.path.exists('./output/era5/era5_{year}_{month}.nc'.format(year=year, month=month)):\n",
    "            continue\n",
    "\n",
    "        c.retrieve(\n",
    "        'reanalysis-era5-single-levels',\n",
    "        {\n",
    "            'product_type': 'reanalysis',\n",
    "            'variable': [\n",
    "                '2m_temperature',\n",
    "                'surface_net_solar_radiation',\n",
    "                'total_precipitation',\n",
    "            ],\n",
    "            'year': str(year),\n",
    "            'month': [\n",
    "                str(month)\n",
    "            ],\n",
    "            'day': [\n",
    "                '01', '02', '03',\n",
    "                '04', '05', '06',\n",
    "                '07', '08', '09',\n",
    "                '10', '11', '12',\n",
    "                '13', '14', '15',\n",
    "                '16', '17', '18',\n",
    "                '19', '20', '21',\n",
    "                '22', '23', '24',\n",
    "                '25', '26', '27',\n",
    "                '28', '29', '30',\n",
    "                '31',\n",
    "            ],\n",
    "            'time': [\n",
    "                '00:00', '01:00', '02:00',\n",
    "                '03:00', '04:00', '05:00',\n",
    "                '06:00', '07:00', '08:00',\n",
    "                '09:00', '10:00', '11:00',\n",
    "                '12:00', '13:00', '14:00',\n",
    "                '15:00', '16:00', '17:00',\n",
    "                '18:00', '19:00', '20:00',\n",
    "                '21:00', '22:00', '23:00',\n",
    "            ],\n",
    "            'area': [\n",
    "                7, -78, -35, -53,\n",
    "            ],\n",
    "            'format': 'netcdf',\n",
    "        },\n",
    "        './output/era5/era5_{year}_{month}.nc'.format(year=year, month=month))\n",
    "\n",
    "        print('era5_{year}_{month}.nc done'.format(year=year, month=month))"
   ]
  },
  {
   "cell_type": "code",
   "execution_count": null,
   "id": "f4bbdc4a",
   "metadata": {},
   "outputs": [],
   "source": []
  }
 ],
 "metadata": {
  "kernelspec": {
   "display_name": "Python 3 (ipykernel)",
   "language": "python",
   "name": "python3"
  },
  "language_info": {
   "codemirror_mode": {
    "name": "ipython",
    "version": 3
   },
   "file_extension": ".py",
   "mimetype": "text/x-python",
   "name": "python",
   "nbconvert_exporter": "python",
   "pygments_lexer": "ipython3",
   "version": "3.9.7"
  }
 },
 "nbformat": 4,
 "nbformat_minor": 5
}
