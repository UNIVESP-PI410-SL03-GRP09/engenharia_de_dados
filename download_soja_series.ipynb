{
 "cells": [
  {
   "cell_type": "code",
   "execution_count": 1,
   "metadata": {},
   "outputs": [],
   "source": [
    "import pandas as pd"
   ]
  },
  {
   "cell_type": "code",
   "execution_count": null,
   "metadata": {},
   "outputs": [],
   "source": [
    "# https://www.conab.gov.br/info-agro/safras/serie-historica-das-safras/itemlist/category/911-soja"
   ]
  },
  {
   "cell_type": "code",
   "execution_count": 3,
   "metadata": {},
   "outputs": [
    {
     "name": "stdout",
     "output_type": "stream",
     "text": [
      "--2023-05-23 21:40:38--  https://www.conab.gov.br/info-agro/safras/serie-historica-das-safras/item/download/47426_4ea19b29bec235ea569ae1c687d2f85e\n",
      "Resolving www.conab.gov.br (www.conab.gov.br)... 160.238.29.73\n",
      "Connecting to www.conab.gov.br (www.conab.gov.br)|160.238.29.73|:443... connected.\n",
      "HTTP request sent, awaiting response... 200 OK\n",
      "Length: 80384 (78K) [application/vnd.ms-excel]\n",
      "Saving to: ‘47426_4ea19b29bec235ea569ae1c687d2f85e’\n",
      "\n",
      "47426_4ea19b29bec23 100%[===================>]  78.50K  --.-KB/s    in 0.07s   \n",
      "\n",
      "2023-05-23 21:40:39 (1.10 MB/s) - ‘47426_4ea19b29bec235ea569ae1c687d2f85e’ saved [80384/80384]\n",
      "\n"
     ]
    }
   ],
   "source": [
    "!wget https://www.conab.gov.br/info-agro/safras/serie-historica-das-safras/item/download/47426_4ea19b29bec235ea569ae1c687d2f85e"
   ]
  },
  {
   "cell_type": "code",
   "execution_count": 76,
   "metadata": {},
   "outputs": [],
   "source": [
    "df = pd.read_excel(\"47426_4ea19b29bec235ea569ae1c687d2f85e.xls\",\n",
    "                   sheet_name=\"Produção\",\n",
    "                   skiprows=5,\n",
    "                   nrows=35,\n",
    "                   usecols=\"A:AV\")"
   ]
  },
  {
   "cell_type": "code",
   "execution_count": 77,
   "metadata": {},
   "outputs": [],
   "source": [
    "states = ['AC', 'AL', 'AP', 'AM', 'BA', 'CE', 'DF', 'ES', 'GO', 'MA', 'MT',\n",
    "       'MS', 'MG', 'PA', 'PB', 'PR', 'PE', 'PI', 'RJ', 'RN', 'RS', 'RO',\n",
    "       'RR', 'SC', 'SP', 'SE', 'TO']\n",
    "\n",
    "states_dict = {\n",
    "    'AC': 'Acre',\n",
    "    'AL': 'Alagoas',\n",
    "    'AP': 'Amapá',\n",
    "    'AM': 'Amazonas',\n",
    "    'BA': 'Bahia',\n",
    "    'CE': 'Ceará',\n",
    "    'DF': 'Distrito Federal',\n",
    "    'ES': 'Espírito Santo',\n",
    "    'GO': 'Goiás',\n",
    "    'MA': 'Maranhão',\n",
    "    'MT': 'Mato Grosso',\n",
    "    'MS': 'Mato Grosso do Sul',\n",
    "    'MG': 'Minas Gerais',\n",
    "    'PA': 'Pará',\n",
    "    'PB': 'Paraíba',\n",
    "    'PR': 'Paraná',\n",
    "    'PE': 'Pernambuco',\n",
    "    'PI': 'Piauí',\n",
    "    'RJ': 'Rio de Janeiro',\n",
    "    'RN': 'Rio Grande do Norte',\n",
    "    'RS': 'Rio Grande do Sul',\n",
    "    'RO': 'Rondônia',\n",
    "    'RR': 'Roraima',\n",
    "    'SC': 'Santa Catarina',\n",
    "    'SP': 'São Paulo',\n",
    "    'SE': 'Sergipe',\n",
    "    'TO': 'Tocantins'\n",
    "}"
   ]
  },
  {
   "cell_type": "code",
   "execution_count": 78,
   "metadata": {},
   "outputs": [],
   "source": [
    "df_2 = df[df['REGIÃO/UF'].str.len() == 2].reset_index()"
   ]
  },
  {
   "cell_type": "code",
   "execution_count": 79,
   "metadata": {},
   "outputs": [],
   "source": [
    "cols = [\n",
    "        'index', 'UF', '1976/77', '1977/78 ', '1978/79', '1979/80',\n",
    "       '1980/81', '1981/82', '1982/83', '1983/84', '1984/85', '1985/86',\n",
    "       '1986/87', '1987/88', '1988/89', '1989/90', '1990/91', '1991/92',\n",
    "       '1992/93', '1993/94', '1994/95', '1995/96', '1996/97', '1997/98',\n",
    "       '1998/99', '1999/00', '2000/01', '2001/02', '2002/03', '2003/04',\n",
    "       '2004/05', '2005/06', '2006/07', '2007/08', '2008/09', '2009/10',\n",
    "       '2010/11', '2011/12', '2012/13', '2013/14', '2014/15', '2015/16',\n",
    "       '2016/17', '2017/18', '2018/19', '2019/20', '2020/21', '2021/22',\n",
    "       '2022/23'\n",
    "]"
   ]
  },
  {
   "cell_type": "code",
   "execution_count": 80,
   "metadata": {},
   "outputs": [],
   "source": [
    "df_2.columns = cols"
   ]
  },
  {
   "cell_type": "code",
   "execution_count": 81,
   "metadata": {},
   "outputs": [],
   "source": [
    "all_data = []\n",
    "for state in states:\n",
    "    c = list(df_2.query(\"UF == @state\").columns)\n",
    "    v = list(df_2.query(\"UF == @state\").values[0])\n",
    "    all_data.append(pd.DataFrame.from_dict({\"safra\": [x.split('/')[0] for x in c], \"adm_1\": states_dict[state], \"producao\": [x * 1000 for x in v]}))"
   ]
  },
  {
   "cell_type": "code",
   "execution_count": 82,
   "metadata": {},
   "outputs": [],
   "source": [
    "df_producao = pd.concat(all_data)"
   ]
  },
  {
   "cell_type": "code",
   "execution_count": 83,
   "metadata": {},
   "outputs": [],
   "source": [
    "df_producao[df_producao.safra.str.isnumeric()].to_parquet(\"output/producao_soja.parquet\", version=\"1.0\")"
   ]
  },
  {
   "cell_type": "code",
   "execution_count": 84,
   "metadata": {},
   "outputs": [],
   "source": [
    "df_producao[df_producao.safra.str.isnumeric()].to_csv(\"output/producao_soja.csv\", index=False)"
   ]
  },
  {
   "cell_type": "code",
   "execution_count": 85,
   "metadata": {},
   "outputs": [],
   "source": [
    "df = pd.read_excel(\"47426_4ea19b29bec235ea569ae1c687d2f85e.xls\",\n",
    "                   sheet_name=\"Área\",\n",
    "                   skiprows=5,\n",
    "                   nrows=35,\n",
    "                   usecols=\"A:AV\")"
   ]
  },
  {
   "cell_type": "code",
   "execution_count": 86,
   "metadata": {},
   "outputs": [],
   "source": [
    "df_2 = df[df['REGIÃO/UF'].str.len() == 2].reset_index()"
   ]
  },
  {
   "cell_type": "code",
   "execution_count": 87,
   "metadata": {},
   "outputs": [],
   "source": [
    "df_2.columns = cols"
   ]
  },
  {
   "cell_type": "code",
   "execution_count": 88,
   "metadata": {},
   "outputs": [],
   "source": [
    "all_data = []\n",
    "for state in states:\n",
    "    c = list(df_2.query(\"UF == @state\").columns)\n",
    "    v = list(df_2.query(\"UF == @state\").values[0])\n",
    "    all_data.append(pd.DataFrame.from_dict({\"safra\": [x.split('/')[0] for x in c], \"adm_1\": states_dict[state], \"area\": [x * 1000 for x in v]}))"
   ]
  },
  {
   "cell_type": "code",
   "execution_count": 89,
   "metadata": {},
   "outputs": [],
   "source": [
    "df_area = pd.concat(all_data)"
   ]
  },
  {
   "cell_type": "code",
   "execution_count": 90,
   "metadata": {},
   "outputs": [],
   "source": [
    "df_area[df_area.safra.str.isnumeric()].to_parquet(\"output/area_soja.parquet\", version=\"1.0\")"
   ]
  },
  {
   "cell_type": "code",
   "execution_count": 91,
   "metadata": {},
   "outputs": [],
   "source": [
    "df_tudo = pd.concat([df_producao.set_index(['safra', 'adm_1']), df_area.set_index(['safra', 'adm_1'])], axis=1).reset_index().fillna(0)"
   ]
  },
  {
   "cell_type": "code",
   "execution_count": null,
   "metadata": {},
   "outputs": [],
   "source": []
  },
  {
   "cell_type": "code",
   "execution_count": 93,
   "metadata": {},
   "outputs": [],
   "source": [
    "df_tudo[df_tudo.safra.str.isnumeric()].to_parquet(\"output/area_e_producao_soja.parquet\", version=\"1.0\")"
   ]
  }
 ],
 "metadata": {
  "kernelspec": {
   "display_name": "Python 3 (ipykernel)",
   "language": "python",
   "name": "python3"
  },
  "language_info": {
   "codemirror_mode": {
    "name": "ipython",
    "version": 3
   },
   "file_extension": ".py",
   "mimetype": "text/x-python",
   "name": "python",
   "nbconvert_exporter": "python",
   "pygments_lexer": "ipython3",
   "version": "3.9.7"
  }
 },
 "nbformat": 4,
 "nbformat_minor": 2
}
